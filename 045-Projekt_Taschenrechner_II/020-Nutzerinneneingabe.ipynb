{
 "cells": [
  {
   "cell_type": "markdown",
   "id": "1a5c0414",
   "metadata": {
    "editable": true,
    "slideshow": {
     "slide_type": ""
    },
    "tags": []
   },
   "source": [
    "---\n",
    "numbering:\n",
    "    heading_1: true\n",
    "    heading_2: true\n",
    "    title: true\n",
    "---\n",
    "# Nutzer\\*innen-Eingabe\n",
    "\n",
    "Bisher haben wir die Eingabe von Werten über die Definition von Variablen im\n",
    "Code umgesetzt. Das geht jedoch nur, wenn die \"Nutzeroberfläche\" der Code\n",
    "selbst ist.\n",
    "\n",
    "Häufig wollen Sie jedoch auch bei Skripten interaktiv Werte oder\n",
    "Konfigurationsentscheidungen bei der Nutzer\\*in abfragen ohne, dass die\n",
    "Nutzer\\*in (oder auch Sie) dafür den Code verändern sollen.\n",
    "\n",
    "Python bietet dafür die Funktion `input()`, welche es ermöglicht einen Prompt\n",
    "auszugeben und dann die Eingabe der Nutzer\\*in als Ergebnis zu erhalten.\n",
    "\n",
    "Aus dem früheren Beispiel (siehe [Python-Dateien](./030-Python_Code))"
   ]
  },
  {
   "cell_type": "code",
   "execution_count": 1,
   "id": "6a85e37c-45ca-476c-a228-e60065e6dd70",
   "metadata": {
    "editable": true,
    "slideshow": {
     "slide_type": ""
    },
    "tags": [
     "remove-cell"
    ]
   },
   "outputs": [],
   "source": [
    "import sys\n",
    "sys.path.append(\"../solutions/020\")"
   ]
  },
  {
   "cell_type": "code",
   "execution_count": 2,
   "id": "bc0e8167-0bf0-4186-a826-58584f6ab39d",
   "metadata": {
    "editable": true,
    "slideshow": {
     "slide_type": ""
    },
    "tags": [
     "remove-cell"
    ]
   },
   "outputs": [],
   "source": [
    "# CAUTION: Re-defines `input()` for the use with Jupyter Book\n",
    "# DO NOT RUN THIS CELL WHEN MANUALLY USING THE NOTEBOOK\n",
    "import builtins\n",
    "_original_input = builtins.input\n",
    "_mock_inputs = [\"1\", \"3\", \"10\"]\n",
    "_counter = 0\n",
    "\n",
    "def mock_input(prompt=\"\"):\n",
    "    global _counter\n",
    "    if _counter < len(_mock_inputs):\n",
    "        val = _mock_inputs[_counter]\n",
    "        print(f\"{prompt}{val}\")\n",
    "        _counter += 1\n",
    "        return val\n",
    "    return _original_input(prompt)  # Fallback\n",
    "\n",
    "input = mock_input"
   ]
  },
  {
   "cell_type": "code",
   "execution_count": 3,
   "id": "b7159739-e492-4c06-a9bf-15620a74bc9b",
   "metadata": {
    "editable": true,
    "slideshow": {
     "slide_type": ""
    },
    "tags": []
   },
   "outputs": [
    {
     "name": "stdout",
     "output_type": "stream",
     "text": [
      "Ausleihe erfolgreich.\n",
      "9\n"
     ]
    }
   ],
   "source": [
    "from ausleihe_funktion import ausleihe_überprüfen\n",
    "neuer_kontostand = ausleihe_überprüfen(8, 1)\n",
    "print(neuer_kontostand)"
   ]
  },
  {
   "cell_type": "markdown",
   "id": "fec53302-464a-4fb3-b995-5065401d4705",
   "metadata": {
    "editable": true,
    "slideshow": {
     "slide_type": ""
    },
    "tags": []
   },
   "source": [
    "wird dann bspw."
   ]
  },
  {
   "cell_type": "code",
   "execution_count": 4,
   "id": "559ccaa2-c3f5-4cfd-9e23-cb71cd6beab5",
   "metadata": {
    "editable": true,
    "slideshow": {
     "slide_type": ""
    },
    "tags": []
   },
   "outputs": [
    {
     "name": "stdout",
     "output_type": "stream",
     "text": [
      "Wie viele Medien wollen Sie aktuell ausleihen? 1\n",
      "Ausleihe erfolgreich.\n",
      "9\n"
     ]
    }
   ],
   "source": [
    "from ausleihe_funktion import ausleihe_überprüfen\n",
    "aktuell_auszuleihen = input(\"Wie viele Medien wollen Sie aktuell ausleihen? \")  # 1\n",
    "\n",
    "# `input()` hat immer eine Zeichenkette (`str()`) als Ergebnis.                 # 2\n",
    "aktuell_auszuleihen = int(aktuell_auszuleihen)                                  # 2\n",
    "\n",
    "neuer_kontostand = ausleihe_überprüfen(8, aktuell_auszuleihen)                  # 3\n",
    "print(neuer_kontostand)"
   ]
  },
  {
   "cell_type": "markdown",
   "id": "ca78b793-3595-42b3-ba27-59b747983d3b",
   "metadata": {
    "editable": true,
    "slideshow": {
     "slide_type": ""
    },
    "tags": []
   },
   "source": [
    "\n",
    "In diesem Beispiel wird:\n",
    "\n",
    "1. zuerst ein Prompt für die Nutzer\\*in des Skripts ausgegeben und deren\n",
    "   Eingabe in der Variablen `aktuell_auszuleihen` gespeichert,\n",
    "2. dann der Wert der Variablen ist eine Zeichenkette, weshalb diese mithilfe\n",
    "   der Funktion `int()` vor der weiteren Nutzung in eine Ganzzahl umgewandelt\n",
    "   werden muss und abschließend\n",
    "3. der Wert in der Variablen im Funktionsaufruf anstelle der Zahl `1`\n",
    "   übergeben.\n",
    "\n",
    "\n",
    "```{danger} Umwandlung des Datentyps\n",
    "\n",
    "Geben Sie eine Zeichenkette ein, die nicht als Zahl interpretiert werden kann,\n",
    "wird eine sog. Exception ausgelöst und das Programm abgebrochen. Wir lernen\n",
    "später, wie man diese Exceptions \"einfängt\" und mit den Fehlern umgeht.\n",
    "\n",
    "```\n",
    "\n",
    "Bisher ändert sich nichts an der Ausgabe des Codes. Das liegt jedoch nur daran,\n",
    "dass die Beispiel-Nutzer\\*in hier ebenfalls `1` eingegeben hat.\n",
    "\n",
    "Werden andere Werte eingegeben, so führt dies zu anderen Ergebnissen."
   ]
  },
  {
   "cell_type": "code",
   "execution_count": 5,
   "id": "933b7a5b-19c5-4cfd-a585-76965b2927b6",
   "metadata": {
    "editable": true,
    "slideshow": {
     "slide_type": ""
    },
    "tags": []
   },
   "outputs": [
    {
     "name": "stdout",
     "output_type": "stream",
     "text": [
      "Wie viele Medien? 3\n",
      "Ihr neuer Kontostand: 11 Bücher.\n",
      "11\n",
      "\n",
      "Wie viele Medien? 10\n",
      "Sie haben bereits 8 Bücher ausgeliehen.\n",
      "Wenn Sie 10 Bücher ausleihen würden, kämen Sie über die Grenze von\n",
      "15 Büchern.\n",
      "\n",
      "Sie können aktuell maximal 7 weitere Bücher ausleihen.\n",
      "8\n"
     ]
    }
   ],
   "source": [
    "current = int(input(\"Wie viele Medien? \"))\n",
    "print(ausleihe_überprüfen(8, current))\n",
    "\n",
    "print()\n",
    "\n",
    "current = int(input(\"Wie viele Medien? \"))\n",
    "print(ausleihe_überprüfen(8, current))"
   ]
  }
 ],
 "metadata": {
  "jupytext": {
   "cell_metadata_filter": "-all",
   "main_language": "python",
   "notebook_metadata_filter": "-all"
  },
  "kernelspec": {
   "display_name": "Python 3 (ipykernel)",
   "language": "python",
   "name": "python3"
  },
  "language_info": {
   "codemirror_mode": {
    "name": "ipython",
    "version": 3
   },
   "file_extension": ".py",
   "mimetype": "text/x-python",
   "name": "python",
   "nbconvert_exporter": "python",
   "pygments_lexer": "ipython3",
   "version": "3.13.7"
  }
 },
 "nbformat": 4,
 "nbformat_minor": 5
}
