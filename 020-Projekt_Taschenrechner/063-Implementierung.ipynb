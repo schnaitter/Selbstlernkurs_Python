{
 "cells": [
  {
   "cell_type": "markdown",
   "id": "1a5c0414",
   "metadata": {
    "editable": true,
    "slideshow": {
     "slide_type": ""
    },
    "tags": []
   },
   "source": [
    "---\n",
    "numbering:\n",
    "    heading_1: true\n",
    "    heading_2: true\n",
    "    title: true\n",
    "---\n",
    "\n",
    "# Implementierung des Taschenrechners\n",
    "\n",
    "Nun wollen wir alles bisher gelernte zusammenführen und das Skript `taschenrechner.py` entwickeln.\n",
    "\n",
    "Dazu werden wir zuerst eine einzelne \"Rechen-Interaktion\" programmieren und diese dann in einer Schleife wiederholen. Abschließend erstellen wir daraus wieder ein ausführbares Skript."
   ]
  },
  {
   "cell_type": "markdown",
   "id": "63b971cf-f841-48c4-9739-9b388680951f",
   "metadata": {},
   "source": [
    "Für die Implementierung bleiben folgende Fragen zu klären:\n",
    "- Welche Operatoren sind erlaubt? Wie werden diese erkannt und wie wird die korrekte Funktionalität in Python ausgelöst?\n",
    "- Welche Zahlen-Datentypen werden akzeptiert? Wie wird mit Eingaben, die nicht in eine Zahl umgewandelt werden können, umgegangen?\n"
   ]
  },
  {
   "cell_type": "markdown",
   "id": "b53a7160-d51a-4cf9-bea8-57c2da79eaec",
   "metadata": {},
   "source": [
    "## Recheninteraktion\n",
    "\n",
    "Eine Recheninteraktion soll wie folgt gestaltet sein:\n",
    "1. Es wird ein mathematischer Operator abgefragt.\n",
    "2. Es wird mindestens ein Operand abgefragt.\n",
    "3. Das Ergebnis der Berechnung wird ausgegeben.\n",
    "\n"
   ]
  },
  {
   "cell_type": "markdown",
   "id": "f196b6b3-114d-494b-89f6-8b0b35d18557",
   "metadata": {
    "editable": true,
    "slideshow": {
     "slide_type": ""
    },
    "tags": []
   },
   "source": [
    "### \"naive\" Implementierung\n",
    "Nehmen wir zuerst einmal an, dass die Nutzer\\*innen keine Fehler machen und wir nur Eingaben erhalten, die unserem Design entsprechen. Nehmen wir weiter an, dass die Addition von zwei Operanden durchgeführt werden soll.\n",
    "\n",
    "\n",
    "Wir implementieren die Funktion `calculate()`, die drei Nutzer\\*innen-Eingaben einliest und das Ergebnis der Berechnung zurück gibt.\n",
    "\n",
    "Dabei orientieren wir uns an dieser Beispielinteraktion:\n",
    "```python-repl\n",
    "> +\n",
    ">> 3\n",
    ">> 4\n",
    ">> \n",
    "7\n",
    "\n",
    "\n"
   ]
  },
  {
   "cell_type": "code",
   "execution_count": 1,
   "id": "ca63f0f6-1106-4139-a111-06679b5fc9db",
   "metadata": {
    "editable": true,
    "slideshow": {
     "slide_type": ""
    },
    "tags": []
   },
   "outputs": [],
   "source": [
    "def calculate():\n",
    "    operator = input(\"> \")\n",
    "    op1 = int(input(\">> \"))\n",
    "    op2 = int(input(\">> \"))\n",
    "    empty = input(\">> \")\n",
    "\n",
    "    return op1 + op2\n",
    "    "
   ]
  },
  {
   "cell_type": "code",
   "execution_count": 2,
   "id": "b9563295-f4cc-4f16-858c-18af63309b60",
   "metadata": {
    "editable": true,
    "slideshow": {
     "slide_type": ""
    },
    "tags": [
     "remove-cell"
    ]
   },
   "outputs": [],
   "source": [
    "# CAUTION: Re-defines `input()` for the use with Jupyter Book\n",
    "# DO NOT RUN THIS CELL WHEN MANUALLY USING THE NOTEBOOK\n",
    "import builtins\n",
    "_original_input = builtins.input\n",
    "_mock_inputs = [\"+\", \"10\", \"25\", \"\"]\n",
    "_counter = 0\n",
    "\n",
    "def mock_input(prompt=\"\"):\n",
    "    global _counter\n",
    "    if _counter < len(_mock_inputs):\n",
    "        val = _mock_inputs[_counter]\n",
    "        print(f\"{prompt}{val}\")\n",
    "        _counter += 1\n",
    "        return val\n",
    "    return _original_input(prompt)  # Fallback\n",
    "\n",
    "input = mock_input"
   ]
  },
  {
   "cell_type": "markdown",
   "id": "7ad21255-fc32-45c0-a65c-5a6440799855",
   "metadata": {
    "editable": true,
    "slideshow": {
     "slide_type": ""
    },
    "tags": []
   },
   "source": [
    "Ob alles funktioniert hat können Sie mit dem nachfolgenden Code testen. Das `assert`-Statement überprüft, ob der erste Ausdruck wahr ist. Wenn nein, dann wird der zweite Ausdruck als `AssertionError()` ausgegeben."
   ]
  },
  {
   "cell_type": "code",
   "execution_count": 3,
   "id": "4f0e7301-1840-462f-9c85-6ee13212f087",
   "metadata": {
    "editable": true,
    "slideshow": {
     "slide_type": ""
    },
    "tags": []
   },
   "outputs": [
    {
     "name": "stdout",
     "output_type": "stream",
     "text": [
      "> +\n",
      ">> 10\n",
      ">> 25\n",
      ">> \n"
     ]
    }
   ],
   "source": [
    "assert 35 == calculate(), \"Operator: +, Operand 1: 10, Operand 2: 25 FEHLER: Nicht erfolgreich\""
   ]
  },
  {
   "cell_type": "markdown",
   "id": "89069b61-07e8-46b8-a87f-666892a441a1",
   "metadata": {
    "editable": true,
    "slideshow": {
     "slide_type": ""
    },
    "tags": []
   },
   "source": [
    "Diese Implementierung ignoriert aktuell die Eingabe des Operators. Dann werden zwei Zahlen eingelesen und als Ganzzahl interpretiert. Es folgt das einlesen einer leeren Zeile, welche das Ende der Operanden-Eingabe signalisiert und es wird - hart codiert - das Ergebnis der Berechnung zurückgegeben."
   ]
  },
  {
   "cell_type": "markdown",
   "id": "2823aaa4-617d-452d-9e1e-e90074363add",
   "metadata": {
    "editable": true,
    "slideshow": {
     "slide_type": ""
    },
    "tags": []
   },
   "source": [
    ":::{admonition} 💪 Übung\n",
    ":icon: false\n",
    "Nun sind Sie dran. Ändern Sie den Code so, dass Sie überprüfen, ob der Operator ein `\"+\"` ist. Wenn ja, lesen Sie die Operanden ein und geben Sie dann das Ergebnis zurück. Wenn nicht, geben Sie den Wert `None` zurück.\n",
    "\n",
    ":::"
   ]
  },
  {
   "cell_type": "code",
   "execution_count": 4,
   "id": "263fd927-aa37-402b-b803-2865826062f6",
   "metadata": {
    "editable": true,
    "slideshow": {
     "slide_type": ""
    },
    "tags": []
   },
   "outputs": [],
   "source": [
    "# TIPPEN SIE DIESEN CODE AB UND ÄNDERN SIE IHN DANN\n",
    "def calculate():\n",
    "    operator = input(\"> \")\n",
    "    op1 = int(input(\">> \"))\n",
    "    op2 = int(input(\">> \"))\n",
    "    empty = input(\">> \")\n",
    "\n",
    "    return op1 + op2"
   ]
  },
  {
   "cell_type": "code",
   "execution_count": 5,
   "id": "94df12ce-22cb-47e7-b2df-1287915a5031",
   "metadata": {
    "editable": true,
    "slideshow": {
     "slide_type": ""
    },
    "tags": [
     "remove-cell"
    ]
   },
   "outputs": [],
   "source": [
    "# CAUTION: Re-defines `input()` for the use with Jupyter Book\n",
    "# DO NOT RUN THIS CELL WHEN MANUALLY USING THE NOTEBOOK\n",
    "_mock_inputs = [\"+\", \"10\", \"25\", \"\", \"-\", \"1\", \"1\", \"\"]\n",
    "_counter = 0"
   ]
  },
  {
   "cell_type": "code",
   "execution_count": 6,
   "id": "b89ee6c2-5b71-47d1-ae4c-b228906fe20c",
   "metadata": {
    "editable": true,
    "slideshow": {
     "slide_type": ""
    },
    "tags": [
     "raises-exception"
    ]
   },
   "outputs": [
    {
     "name": "stdout",
     "output_type": "stream",
     "text": [
      "> +\n",
      ">> 10\n",
      ">> 25\n",
      ">> \n",
      "> -\n",
      ">> 1\n",
      ">> 1\n",
      ">> \n"
     ]
    },
    {
     "ename": "AssertionError",
     "evalue": "Operator: '-' sollte als Fehler erkannt werden",
     "output_type": "error",
     "traceback": [
      "\u001b[31m---------------------------------------------------------------------------\u001b[39m",
      "\u001b[31mAssertionError\u001b[39m                            Traceback (most recent call last)",
      "\u001b[36mCell\u001b[39m\u001b[36m \u001b[39m\u001b[32mIn[6]\u001b[39m\u001b[32m, line 2\u001b[39m\n\u001b[32m      1\u001b[39m \u001b[38;5;28;01massert\u001b[39;00m \u001b[32m35\u001b[39m == calculate(), \u001b[33m\"\u001b[39m\u001b[33mOperator: \u001b[39m\u001b[33m'\u001b[39m\u001b[33m+\u001b[39m\u001b[33m'\u001b[39m\u001b[33m, Operand 1: 10, Operand 2: 25 FEHLER: Nicht erfolgreich\u001b[39m\u001b[33m\"\u001b[39m\n\u001b[32m----> \u001b[39m\u001b[32m2\u001b[39m \u001b[38;5;28;01massert\u001b[39;00m calculate() \u001b[38;5;129;01mis\u001b[39;00m \u001b[38;5;28;01mNone\u001b[39;00m, \u001b[33m\"\u001b[39m\u001b[33mOperator: \u001b[39m\u001b[33m'\u001b[39m\u001b[33m-\u001b[39m\u001b[33m'\u001b[39m\u001b[33m sollte als Fehler erkannt werden\u001b[39m\u001b[33m\"\u001b[39m\n",
      "\u001b[31mAssertionError\u001b[39m: Operator: '-' sollte als Fehler erkannt werden"
     ]
    }
   ],
   "source": [
    "assert 35 == calculate(), \"Operator: '+', Operand 1: 10, Operand 2: 25 FEHLER: Nicht erfolgreich\"\n",
    "assert calculate() is None, \"Operator: '-' sollte als Fehler erkannt werden\""
   ]
  },
  {
   "cell_type": "markdown",
   "id": "a5b39e12-c05f-4ba5-8fb0-02ef8a62b651",
   "metadata": {
    "editable": true,
    "slideshow": {
     "slide_type": ""
    },
    "tags": []
   },
   "source": [
    "::::{dropdown} ✅ Lösung\n",
    "\n",
    "```{code-cell} python\n",
    "def calculate():\n",
    "    operator = input(\"> \")\n",
    "    if operator != \"+\":\n",
    "        return None\n",
    "    op1 = int(input(\">> \"))\n",
    "    op2 = int(input(\">> \"))\n",
    "    empty = input(\">> \")\n",
    "\n",
    "    return op1 + op2\n",
    "```\n",
    "\n",
    "```{code-cell} python\n",
    ":tags: [remove-cell]\n",
    "# CAUTION: Re-defines `input()` for the use with Jupyter Book\n",
    "# DO NOT RUN THIS CELL WHEN MANUALLY USING THE NOTEBOOK\n",
    "_mock_inputs = [\"+\", \"10\", \"25\", \"\", \"-\", \"1\", \"1\", \"\"]\n",
    "_counter = 0\n",
    "```\n",
    "\n",
    "```{code-cell} python\n",
    "assert 35 == calculate(), \"Operator: '+', Operand 1: 10, Operand 2: 25 FEHLER: Nicht erfolgreich\"\n",
    "assert calculate() is None, \"Operator: '-' sollte als Fehler erkannt werden\"\n",
    "```\n",
    "\n",
    ":::: "
   ]
  },
  {
   "cell_type": "markdown",
   "id": "85e6721d-6335-4031-a760-309ff3ce4af5",
   "metadata": {
    "editable": true,
    "slideshow": {
     "slide_type": ""
    },
    "tags": []
   },
   "source": [
    "### Korrekte Behandlung der Operanden\n",
    "\n",
    "Bisher gehen wir immer von genau 2 Operanden (und einer leeren Eingabe) aus. Der nächste Schritt ist es, eine variable Anzahl von Operanden einzulesen.\n",
    "\n",
    "Konzeptionell wollen wir also:\n",
    "1. eine Eingabe der Nutzer\\*in einlesen,\n",
    "2. überprüfen, ob diese leer ist und ggf. das einlesen beenden\n",
    "3. ansonsten die Eingabe in eine Zahl umwandeln und\n",
    "4. zwischenspeichern, bis alle Zahlen eingelesen sind.\n",
    "\n",
    "Um mehrere Werte in einer Variablen zu speichern lernen wir einen neuen Datentyp kennen: die Liste (`list()`, `[]`). Eine Liste kann mehrere Werte enthalten und es können Werte am Ende hinzugefügt werden. Dann kann die Liste durchlaufen werden und mit jedem Wert etwas getan werden.\n",
    "\n",
    "Verkleinern wir das Problem noch weiter, so wollen wir diese Interaktion ermöglichen:\n",
    "```bash\n",
    ">> 1\n",
    ">> 2\n",
    ">> 3\n",
    ">>\n",
    "```\n",
    "Am Ende dieser Eingaben sollten die Werte `1`, `2` und `3` in einer Liste gespeichert sein. Das kann beispielsweise so aussehen:"
   ]
  },
  {
   "cell_type": "code",
   "execution_count": 7,
   "id": "fbff2acd-23e0-4feb-8526-b636a4bb1a3e",
   "metadata": {
    "editable": true,
    "slideshow": {
     "slide_type": ""
    },
    "tags": [
     "remove-cell"
    ]
   },
   "outputs": [],
   "source": [
    "# CAUTION: Re-defines `input()` for the use with Jupyter Book\n",
    "# DO NOT RUN THIS CELL WHEN MANUALLY USING THE NOTEBOOK\n",
    "_mock_inputs = [\"1\", \"2\", \"3\", \"\"]\n",
    "_counter = 0"
   ]
  },
  {
   "cell_type": "code",
   "execution_count": 8,
   "id": "8ae3eee8-a245-4b20-ba7c-4bc90e2669e6",
   "metadata": {
    "editable": true,
    "slideshow": {
     "slide_type": ""
    },
    "tags": []
   },
   "outputs": [
    {
     "name": "stdout",
     "output_type": "stream",
     "text": [
      ">> 1\n",
      ">> 2\n",
      ">> 3\n",
      ">> \n"
     ]
    },
    {
     "data": {
      "text/plain": [
       "[1, 2, 3]"
      ]
     },
     "execution_count": 8,
     "metadata": {},
     "output_type": "execute_result"
    }
   ],
   "source": [
    "numbers = [] # define an empty list to store the numbers\n",
    "while True: # loop indefinitely until we `break` out on empty input\n",
    "    text = input(\">> \")\n",
    "    if \"\" == text:\n",
    "        break\n",
    "    else:\n",
    "        number = int(text)\n",
    "        numbers.append(number) # append entered number to list of numbers\n",
    "\n",
    "numbers # the last value of a cell is printed as its result"
   ]
  },
  {
   "cell_type": "markdown",
   "id": "1129a7f9-527a-4bd2-9a1f-e9d7cfaa31ec",
   "metadata": {
    "editable": true,
    "slideshow": {
     "slide_type": ""
    },
    "tags": []
   },
   "source": [
    ":::::{admonition} 💪 Übung\n",
    ":icon: false\n",
    "\n",
    "Nun sind Sie nochmal dran. Fügen Sie die Funktionalität mehrere Operanden einzulesen in die Funktion `calculate()` ein.\n",
    "\n",
    "Beachten Sie aber zuerst nur die ersten zwei Operanden, wenn es um die Berechnung des Ergebnisses geht. Dazu können Sie auf Elemente der Liste zugreifen:\n",
    "```python\n",
    "op1 = numbers[0] # lists are counted from 0. this is the first element of the list\n",
    "op2 = number[1]\n",
    "```\n",
    "\n",
    "Versuchen Sie dann die folgenden Assertions zu erfüllen:\n",
    "```python\n",
    "assert 3 == calculate(), \"ERROR: '+', '1', '2', '3', '' : Not handled correctly\"\n",
    "assert calculate() is None, \"ERROR: Operator '-' is not allowed\"\n",
    "```\n",
    "\n",
    "::::{dropdown} ✅ Lösung\n",
    "\n",
    "```{code-cell} python\n",
    "def calculate():\n",
    "    operator = input(\"> \")\n",
    "    if operator != \"+\":\n",
    "        return None\n",
    "    numbers = []\n",
    "    while True:\n",
    "        text = input(\">> \")\n",
    "        if \"\" == text:\n",
    "            break\n",
    "        numbers.append(int(text))\n",
    "    op1 = numbers[0]\n",
    "    op2 = numbers[1]\n",
    "\n",
    "    return op1 + op2\n",
    "```\n",
    "\n",
    "```{code-cell} python\n",
    ":tags: [remove-cell]\n",
    "# CAUTION: Re-defines `input()` for the use with Jupyter Book\n",
    "# DO NOT RUN THIS CELL WHEN MANUALLY USING THE NOTEBOOK\n",
    "_mock_inputs = [\"+\", \"1\", \"2\", \"3\", \"\", \"-\", \"1\", \"1\", \"\"]\n",
    "_counter = 0\n",
    "```\n",
    "\n",
    "```{code-cell} python\n",
    ":tags: [raises-exception]\n",
    "assert 3 == calculate(), \"ERROR: '+', '1', '2', '3', '' : Not handled correctly\"\n",
    "assert calculate() is None, \"ERROR: Operator '-' is not allowed\"\n",
    "```\n",
    "\n",
    ":::: \n",
    ":::::"
   ]
  },
  {
   "cell_type": "markdown",
   "id": "01a5834b-82e7-4f25-afad-08963a391e87",
   "metadata": {
    "editable": true,
    "slideshow": {
     "slide_type": ""
    },
    "tags": []
   },
   "source": [
    "Nun haben wir es fast geschafft. Es fehlt nur noch die korrekte Behandlung mehrerer Operanden bei der Berechnung des Ergebnisses.\n",
    "\n",
    "Verkleinern wir das Problem wieder, so können wir eine Variable erstellen, welche am Schluss das Ergebnis beinhalten soll und anschließend können wir für alle Operanden das Ergebnis mit dem Operanden verrechnen. Am einfachsten geht das mit der sogenannten `for`-Schleife:\n"
   ]
  },
  {
   "cell_type": "code",
   "execution_count": 9,
   "id": "301e854c-17c1-40fd-bf32-ed476ce60bc2",
   "metadata": {
    "editable": true,
    "slideshow": {
     "slide_type": ""
    },
    "tags": []
   },
   "outputs": [
    {
     "data": {
      "text/plain": [
       "6"
      ]
     },
     "execution_count": 9,
     "metadata": {},
     "output_type": "execute_result"
    }
   ],
   "source": [
    "numbers = [1, 2, 3]\n",
    "\n",
    "result = 0\n",
    "for number in numbers:\n",
    "    result += number\n",
    "\n",
    "result"
   ]
  },
  {
   "cell_type": "markdown",
   "id": "a1299aac-7b3a-498f-8e25-96824026b83d",
   "metadata": {
    "editable": true,
    "slideshow": {
     "slide_type": ""
    },
    "tags": []
   },
   "source": [
    ":::::{admonition} 💪 Übung\n",
    ":icon: false\n",
    "\n",
    "Verändern Sie `calculate()` so, dass Sie alle Operanden bei der Berechnung des Ergebnisses berücksichtigen.\n",
    "\n",
    "Versuchen Sie dann die folgenden Assertions zu erfüllen:\n",
    "```python\n",
    "assert 6 == calculate(), \"ERROR: '+', '1', '2', '3', '' : Not handled correctly\"\n",
    "assert 3 == calculate(), \"ERROR: '+', '1', '2', '' : Not handled correctly\"\n",
    "assert calculate() is None, \"ERROR: Operator '-' is not allowed\"\n",
    "```\n",
    "\n",
    "::::{dropdown} ✅ Lösung\n",
    "\n",
    "```{code-cell} python\n",
    "def calculate():\n",
    "    # handle the operator\n",
    "    operator = input(\"> \")\n",
    "    if operator != \"+\":\n",
    "        return None\n",
    "\n",
    "    # read in the operands\n",
    "    numbers = []\n",
    "    while True:\n",
    "        text = input(\">> \")\n",
    "        if \"\" == text:\n",
    "            break\n",
    "        numbers.append(int(text))\n",
    "\n",
    "    # calculate result\n",
    "    if operator == \"+\":\n",
    "        result = 0\n",
    "        for number in numbers:\n",
    "            result += number\n",
    "\n",
    "    return result\n",
    "```\n",
    "\n",
    "```{code-cell} python\n",
    ":tags: [remove-cell]\n",
    "# CAUTION: Re-defines `input()` for the use with Jupyter Book\n",
    "# DO NOT RUN THIS CELL WHEN MANUALLY USING THE NOTEBOOK\n",
    "_mock_inputs = [\"+\", \"1\", \"2\", \"3\", \"\", \"+\", \"1\", \"2\", \"\", \"-\", \"1\", \"1\", \"\"]\n",
    "_counter = 0\n",
    "```\n",
    "\n",
    "```{code-cell} python\n",
    ":tags: [raises-exception]\n",
    "assert 6 == calculate(), \"ERROR: '+', '1', '2', '3', '' : Not handled correctly\"\n",
    "assert 3 == calculate(), \"ERROR: '+', '1', '2', '' : Not handled correctly\"\n",
    "assert calculate() is None, \"ERROR: Operator '-' is not allowed\"\n",
    "```\n",
    "\n",
    ":::: \n",
    ":::::"
   ]
  },
  {
   "cell_type": "markdown",
   "id": "160eff4d-0c70-4c53-be8a-6c9109a18066",
   "metadata": {
    "editable": true,
    "slideshow": {
     "slide_type": ""
    },
    "tags": []
   },
   "source": [
    ":::::{admonition} 💪 Übung\n",
    ":icon: false\n",
    "\n",
    "Welches Ergebnis erhalten Sie bei den folgenden Eingaben? Warum?\n",
    "\n",
    "**Eingabe 1:**\n",
    "```bash\n",
    "> +\n",
    ">> \n",
    "```\n",
    "\n",
    "**Eingabe 2:**\n",
    "```bash\n",
    "> +\n",
    ">> 1\n",
    ">> \n",
    "```\n",
    "\n",
    "\n",
    "::::{dropdown} ✅ Lösung\n",
    "\n",
    "```{code-cell} python\n",
    ":tags: [remove-cell]\n",
    "# CAUTION: Re-defines `input()` for the use with Jupyter Book\n",
    "# DO NOT RUN THIS CELL WHEN MANUALLY USING THE NOTEBOOK\n",
    "_mock_inputs = [\"+\", \"\", \"+\", \"1\", \"\"]\n",
    "_counter = 0\n",
    "```\n",
    "\n",
    "**Eingabe 1:**\n",
    "```{code-cell} python\n",
    ":tags: [remove-input]\n",
    "calculate()\n",
    "```\n",
    "**Eingabe 2:**\n",
    "```{code-cell} python\n",
    ":tags: [remove-input]\n",
    "calculate()\n",
    "```\n",
    "\n",
    ":::: \n",
    ":::::"
   ]
  },
  {
   "cell_type": "markdown",
   "id": "f9ac2408-1133-4fe9-883f-858c561cba18",
   "metadata": {
    "editable": true,
    "slideshow": {
     "slide_type": ""
    },
    "tags": []
   },
   "source": [
    "## Die Programmschleife\n",
    "\n",
    "Die Programmschleife soll in jedem Schritt:\n",
    "1. die Recheninteraktions-Funktion aus dem vorherigen Abschnitt aufrufen und\n",
    "2. das Rechenergebnis ausgeben, falls vorhanden\n",
    "3. die Schleife soll beendet werden, wenn kein Operator übergeben wurde\n",
    "\n",
    "Für die Lösung dieses Problems lernen wir noch ein weiteres sehr nützliches Syntaxelement von Python kennen – den sogenannten Walross-Operator `:=`.\n",
    "\n",
    "Dieser erlaubt es in den Bedingungen von `if`, `while`, usw. das Ergebnis der Bedingung in einer Variablen abzuspeichern. Dadurch kann unsere Programmschleife wie folgt aussehen:"
   ]
  },
  {
   "cell_type": "code",
   "execution_count": 10,
   "id": "ced0f225-70c4-4853-bc56-e8c21436161b",
   "metadata": {
    "editable": true,
    "slideshow": {
     "slide_type": ""
    },
    "tags": [
     "remove-cell"
    ]
   },
   "outputs": [],
   "source": [
    "def calculate():\n",
    "    # handle the operator\n",
    "    operator = input(\"> \")\n",
    "    if operator != \"+\":\n",
    "        # print(\"ERROR: Unknown operator.\")\n",
    "        return None\n",
    "\n",
    "    # read in the operands\n",
    "    numbers = []\n",
    "    while True:\n",
    "        text = input(\">> \")\n",
    "        if \"\" == text:\n",
    "            break\n",
    "        numbers.append(int(text))\n",
    "\n",
    "    # calculate result\n",
    "    if operator == \"+\":\n",
    "        result = 0\n",
    "        for number in numbers:\n",
    "            result += number\n",
    "\n",
    "    return result"
   ]
  },
  {
   "cell_type": "code",
   "execution_count": 11,
   "id": "5568e48a-3d8d-4f2b-803c-f6d0ec043924",
   "metadata": {
    "editable": true,
    "slideshow": {
     "slide_type": ""
    },
    "tags": [
     "remove-cell"
    ]
   },
   "outputs": [],
   "source": [
    "# CAUTION: Re-defines `input()` for the use with Jupyter Book\n",
    "# DO NOT RUN THIS CELL WHEN MANUALLY USING THE NOTEBOOK\n",
    "_mock_inputs = [\"+\", \"1\", \"2\", \"\", \"+\", \"1\", \"\", \"\"]\n",
    "_counter = 0"
   ]
  },
  {
   "cell_type": "code",
   "execution_count": 12,
   "id": "0863d5cd-d50b-4bc6-8f55-32adebcf6fb8",
   "metadata": {
    "editable": true,
    "slideshow": {
     "slide_type": ""
    },
    "tags": []
   },
   "outputs": [
    {
     "name": "stdout",
     "output_type": "stream",
     "text": [
      "> +\n",
      ">> 1\n",
      ">> 2\n",
      ">> \n",
      "3\n",
      "> +\n",
      ">> 1\n",
      ">> \n",
      "1\n",
      "> \n"
     ]
    }
   ],
   "source": [
    "while result := calculate():\n",
    "    print(result)"
   ]
  },
  {
   "cell_type": "markdown",
   "id": "90dfa703-89c9-4c2d-a770-14027e153d39",
   "metadata": {
    "editable": true,
    "slideshow": {
     "slide_type": ""
    },
    "tags": []
   },
   "source": [
    "## Gestaltung als Skript\n",
    ":::::{admonition} 💪 Übung\n",
    ":icon: false\n",
    "\n",
    "Schließen Sie die Implementierung als Skript ab. Es sollte folgende Interaktion im Terminal möglich sein:\n",
    "```bash\n",
    "$ ./taschenrechner.py\n",
    "> +\n",
    ">> 3\n",
    ">> 4\n",
    ">> \n",
    "7\n",
    "> \n",
    "```\n",
    "\n",
    "::::{dropdown} ✅ Lösung\n",
    "```{include} ../solutions/020/taschenrechner.py\n",
    ":lang: python\n",
    ":enumerated: true\n",
    ":linenos: true\n",
    "\n",
    "```\n",
    "\n",
    "```{code-cell} python3\n",
    "!echo \"Testing the script automatically with the input: + 3 4\"\n",
    "!chmod u+x ../solutions/020/taschenrechner.py\n",
    "print('Simulate user interaction by running command in terminal:\\n$ echo \"+\\\\n3\\\\n4\\\\n\\\\n\" | ./taschenrechner.py')\n",
    "!echo \"+\\n3\\n4\\n\\n\" | ../solutions/020/taschenrechner.py \n",
    "```\n",
    "\n",
    "Der Befehl `echo` \"tippt\" die Zeichenfolge, die danach folgt in die sog. Standardausgabe. Diese wird dann über eine sog. pipe (`|`) an das Skript `./taschenrechner.py` umgeleitet, wodurch eine Nutzer\\*innen-Interaktion simuliert werden kann.\n",
    ":::: \n",
    "::::: "
   ]
  },
  {
   "cell_type": "code",
   "execution_count": null,
   "id": "8044308d-ba9e-4fcb-8fd7-6cf122e39fbd",
   "metadata": {
    "editable": true,
    "slideshow": {
     "slide_type": ""
    },
    "tags": []
   },
   "outputs": [],
   "source": []
  }
 ],
 "metadata": {
  "jupytext": {
   "cell_metadata_filter": "-all",
   "main_language": "python",
   "notebook_metadata_filter": "-all"
  },
  "kernelspec": {
   "display_name": "Python 3 (ipykernel)",
   "language": "python",
   "name": "python3"
  },
  "language_info": {
   "codemirror_mode": {
    "name": "ipython",
    "version": 3
   },
   "file_extension": ".py",
   "mimetype": "text/x-python",
   "name": "python",
   "nbconvert_exporter": "python",
   "pygments_lexer": "ipython3",
   "version": "3.13.7"
  }
 },
 "nbformat": 4,
 "nbformat_minor": 5
}
