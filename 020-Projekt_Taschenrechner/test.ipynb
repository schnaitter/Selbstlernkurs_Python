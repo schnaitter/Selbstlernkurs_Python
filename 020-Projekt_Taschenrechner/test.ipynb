{
 "cells": [
  {
   "cell_type": "markdown",
   "id": "a6e444f8",
   "metadata": {},
   "source": [
    "---\n",
    "lang: de-DE\n",
    "numbering:\n",
    "  heading_1: true\n",
    "  heading_2: true\n",
    "  title: true\n",
    "  figure:\n",
    "    template: Abb. %s\n",
    "---"
   ]
  },
  {
   "cell_type": "code",
   "execution_count": 1,
   "id": "933ff2e8",
   "metadata": {},
   "outputs": [
    {
     "data": {
      "text/plain": [
       "4"
      ]
     },
     "execution_count": 1,
     "metadata": {},
     "output_type": "execute_result"
    }
   ],
   "source": [
    "2+2"
   ]
  }
 ],
 "metadata": {
  "kernelspec": {
   "display_name": "venv",
   "language": "python",
   "name": "python3"
  },
  "language_info": {
   "codemirror_mode": {
    "name": "ipython",
    "version": 3
   },
   "file_extension": ".py",
   "mimetype": "text/x-python",
   "name": "python",
   "nbconvert_exporter": "python",
   "pygments_lexer": "ipython3",
   "version": "3.13.3"
  }
 },
 "nbformat": 4,
 "nbformat_minor": 5
}
