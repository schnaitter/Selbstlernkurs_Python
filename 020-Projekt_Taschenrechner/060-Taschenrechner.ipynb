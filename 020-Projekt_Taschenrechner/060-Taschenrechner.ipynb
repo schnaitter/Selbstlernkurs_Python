{
 "cells": [
  {
   "cell_type": "markdown",
   "id": "1a5c0414",
   "metadata": {
    "editable": true,
    "jp-MarkdownHeadingCollapsed": true,
    "slideshow": {
     "slide_type": ""
    },
    "tags": []
   },
   "source": [
    "---\n",
    "numbering:\n",
    "    heading_1: true\n",
    "    heading_2: true\n",
    "    title: true\n",
    "    figure:\n",
    "        template: Abb. %s\n",
    "---\n",
    "\n",
    "# Der Taschenrechner\n",
    "\n",
    "Das Taschenrechner-Projekt soll folgende Interaktion ermöglichen:\n",
    "\n",
    "```bash\n",
    "$ ./taschenrechner.py\n",
    "> +\n",
    ">> 3\n",
    ">> 4\n",
    ">> \n",
    "7\n",
    "> *\n",
    ">> 2\n",
    ">>\n",
    "2\n",
    "> -\n",
    ">> 10\n",
    ">> 2\n",
    ">> 3\n",
    ">> 6\n",
    ">> \n",
    "-1\n",
    "> /\n",
    ">> \n",
    "ERROR: Operator `/` needs at least one operand.\n",
    "$ \n",
    "```\n",
    "\n",
    "Das Skript `taschenrechner.py` soll also:\n",
    "1. Eine mathematische Operation und\n",
    "2. mindestens ein (und beliebig viele) Operanden abfragen.\n",
    "3. Wenn kein weiterer Operand eingegeben wird, soll\n",
    "    1. überprüft werden, ob die Mindestanzahl von Operanden verfügbar ist. Wenn nicht, dann wird eine Fehlermeldung ausgegeben und zu 1. zurückgekehrt.\n",
    "    2. Anschließend wird die mathematische Operation durchgeführt und das Ergebnis wird ausgegeben. Dann wird zu 1. zurückgekehrt.\n",
    "\n",
    "Das Programm wird beendet, wenn keine Operation eingegeben wurde.\n",
    "\n",
    "Der Taschenrechner ist also ebenfalls eine REPL. Um diese zu implementieren benötigen wir noch zwei Fähigkeiten in Python: Das [Einlesen von Werten](./061-Nutzerinneneingabe) und die Möglichkeit, Code zu [wiederholen](./062-Schleifen)."
   ]
  }
 ],
 "metadata": {
  "jupytext": {
   "cell_metadata_filter": "-all",
   "main_language": "python",
   "notebook_metadata_filter": "-all"
  },
  "kernelspec": {
   "display_name": "Python 3 (ipykernel)",
   "language": "python",
   "name": "python3"
  },
  "language_info": {
   "codemirror_mode": {
    "name": "ipython",
    "version": 3
   },
   "file_extension": ".py",
   "mimetype": "text/x-python",
   "name": "python",
   "nbconvert_exporter": "python",
   "pygments_lexer": "ipython3",
   "version": "3.13.7"
  }
 },
 "nbformat": 4,
 "nbformat_minor": 5
}
