{
 "cells": [
  {
   "cell_type": "markdown",
   "id": "ba0180d5",
   "metadata": {
    "editable": true,
    "slideshow": {
     "slide_type": ""
    },
    "tags": []
   },
   "source": [
    "---\n",
    "short_title: REPL\n",
    "numbering:\n",
    "    heading_1: true\n",
    "    heading_2: true\n",
    "    title: true\n",
    "---\n",
    "\n",
    "# Die Read-Eval-Print-Loop (REPL)\n",
    "\n",
    "Im Kapitel zur Installation haben Sie einmal `python3 --version` im Terminal\n",
    "ausgeführt um sicherzustellen, dass Sie ein aktuelles und funktionierendes\n",
    "Python installiert haben. Nun machen Sie die ersten Schritte mit Python Code.\n",
    "\n",
    "## Starten der Python REPL\n",
    "\n",
    ":::::{margin}\n",
    "::::{seealso} Terminal-Nutzung\n",
    "Im gesamten Kurs werden Eingaben im Terminal wie folgt dargestellt:\n",
    ":::console\n",
    "$ echo \"Hallo Welt\"\n",
    "Hallo Welt\n",
    ":::\n",
    "Dabei beginnen Zeilen mit einem Terminal-Befehl mit `$ ` und darauffolgende Zeilen bis zum nächsten `$ ` die Ausgabe des Befehls. Wenn Sie die Schritte nachvollziehen, geben Sie den Befehl selbst ein und 'starten' diesen mit `<Enter>`.\n",
    "\n",
    "Es werden nicht alle Ausgaben (vollständig) dargestellt.\n",
    "\n",
    "Achten Sie darauf, dass Sie ggf. Dateipfade anpassen müssen. Mehr dazu im [Exkurs: Unix](/030-Exkurs_Unix/Einleitung.md).\n",
    "::::\n",
    ":::::\n",
    "\n",
    "Führen Sie das Programm `python3` im Terminal aus, so startet es in die REPL.\n",
    "\n",
    "```console\n",
    "$ python3\n",
    "Python 3.13.7 (main, Aug 14 2025, 11:12:11) [Clang 17.0.0 (clang-1700.0.13.3)] on darwin\n",
    "Type \"help\", \"copyright\", \"credits\" or \"license\" for more information.\n",
    ">>>\n",
    "```\n",
    "\n",
    "Um die REPL zu verlassen, tippen Sie `quit()` oder nutzen Sie (in Unix-basierten Betriebssysteme) die Tastekombination `<Strg-D>`.\n",
    "\n",
    "## Ihr erstes Python\n",
    "\n",
    "Die REPL verhält sich ähnlich zum Terminal, nur dass nicht Befehle nach (typischerweise) einem `$ ` eingegeben werden, sondern dass Python-Code nach einem `>>> ` eingegeben wird.\n",
    "\n",
    "Nachfolgend finden Sie ein paar Beispiele. Probieren Sie diese selbst aus und ändern Sie sie dann ab.\n",
    "\n",
    "```python-repl\n",
    ">>> 2+2\n",
    "4\n",
    "```\n",
    "\n",
    "```python-repl\n",
    ">>> \"Hallo, Welt!\"\n",
    "'Hallo, Welt!\"\n",
    "```\n",
    "\n",
    "```python-repl\n",
    ">>> print(\"Hallo, Welt!\")\n",
    "Hallo, Welt!\n",
    "```\n",
    "\n",
    "Ist der Python-Code noch nicht vollständig, so verändert sich der Prompt zu `... `.\n",
    "\n",
    "```python-repl\n",
    ">>> print(\n",
    "...\n",
    "... \"Hallo\"\n",
    "... )\n",
    "Hallo\n",
    "```\n",
    "\n",
    "## Die Struktur einer REPL\n",
    "\n",
    "Eine REPL (siehe {numref}`fig:repl`) ist ein Programm, welches:\n",
    "\n",
    "1. _**R**ead_: Einen Befehl oder hier ein Stück Python-Code einliest.\n",
    "2. _**E**val_: Dann den Code ausführt.\n",
    "3. _**P**rint_: Das Ergebnis des ausgeführten Codes zurück gibt.\n",
    "4. _**L**oop_: Und das solange wiederholt, bis es beendet wird (bei Python via `quit()`).\n"
   ]
  },
  {
   "cell_type": "markdown",
   "id": "e38bcd2d-773b-46bd-892a-07d44d9622f2",
   "metadata": {
    "editable": true,
    "slideshow": {
     "slide_type": ""
    },
    "tags": []
   },
   "source": [
    "::::{figure}\n",
    ":name: fig:repl\n",
    "```mermaid\n",
    "flowchart LR\n",
    "\n",
    "start((Start)) --> R[Read]\n",
    "R --> E[Eval]\n",
    "E --> P[Print]\n",
    "P --> L{Loop<br>?}\n",
    "L -->|yes| R\n",
    "L -->|no| stop((Stop))\n",
    "```\n",
    "\n",
    "Ablaufdiagramm der Bestandteile einer REPL\n",
    "::::"
   ]
  },
  {
   "cell_type": "markdown",
   "id": "c0730c44-1c2a-439d-a146-00d8d3e37307",
   "metadata": {
    "editable": true,
    "slideshow": {
     "slide_type": ""
    },
    "tags": []
   },
   "source": [
    "TODO: genauere Erklärung des Ablaufs von bspw. `print(\"Hallo\")`."
   ]
  },
  {
   "cell_type": "markdown",
   "id": "099f1f56-f189-4be3-8a58-e888507e9169",
   "metadata": {
    "editable": true,
    "slideshow": {
     "slide_type": ""
    },
    "tags": []
   },
   "source": [
    "## Lernstandskontrolle"
   ]
  },
  {
   "cell_type": "code",
   "execution_count": null,
   "id": "1281feb0-3f98-4346-bc83-76223658319f",
   "metadata": {
    "editable": true,
    "slideshow": {
     "slide_type": ""
    },
    "tags": [
     "remove-cell"
    ]
   },
   "outputs": [],
   "source": [
    "from jupyterquiz import display_quiz\n",
    "c = { '--jq-multiple-choice-bg': '#202080',\n",
    "      '--jq-mc-button-bg': '#fafafa',\n",
    "      '--jq-mc-button-border': '#e0e0e0e0',\n",
    "      '--jq-mc-button-inset-shadow': '#555555',\n",
    "      '--jq-many-choice-bg': '#202080',\n",
    "      '--jq-numeric-bg': '#202080',\n",
    "      '--jq-numeric-input-bg': '#c0c0c0',\n",
    "      '--jq-numeric-input-label': '#101010',\n",
    "      '--jq-numeric-input-shadow': '#999999',\n",
    "      '--jq-string-bg': '#202080',\n",
    "      '--jq-incorrect-color': '#c80202',\n",
    "      '--jq-correct-color': '#009113',\n",
    "      '--jq-text-color': '#fafafa',\n",
    "      '--jq-link-color': '#9abafa' }"
   ]
  },
  {
   "cell_type": "code",
   "execution_count": null,
   "id": "1ee1c360-0a38-42ef-a11c-316edd98c058",
   "metadata": {
    "editable": true,
    "slideshow": {
     "slide_type": ""
    },
    "tags": [
     "remove-input"
    ]
   },
   "outputs": [],
   "source": [
    "q = [{\n",
    "        \"question\": \"Welche Ausgabe erhalten Sie, wenn Sie <pre>>>> 3**3</pre> in die REPL eingeben?\",\n",
    "        \"type\": \"multiple_choice\",\n",
    "        \"answers\": [\n",
    "            { \"code\": \"3**3\", \"correct\": False },\n",
    "            { \"code\": \"9\", \"correct\": True },\n",
    "            { \"code\": \"6\", \"correct\": False },\n",
    "            { \"code\": \"33\", \"correct\": False },\n",
    "            { \"code\": \"333\", \"correct\": False },\n",
    "            { \"code\": \"SyntaxError\", \"correct\": False }\n",
    "        ]\n",
    "    },\n",
    "    {\n",
    "        \"question\": \"Wie können Sie eine Kommazahl in Python eingeben?<br>Probieren Sie auch die falschen Optionen aus. Was ist deren Ergebnis?\",\n",
    "        \"type\": \"multiple_choice\",\n",
    "        \"answers\": [\n",
    "            { \"code\": \"12,34\", \"correct\": False },\n",
    "            { \"code\": \"12.34\", \"correct\": True },\n",
    "            { \"code\": \"1234e-2\", \"correct\": True },\n",
    "            { \"code\": \"123,4e-1\", \"correct\": False },\n",
    "        ]\n",
    "    },\n",
    "    {\n",
    "        \"question\": \"Welche Ausgabe ergibt die folgende Eingabe in die REPL? Geben die Ausgabe bis zum ersten Leerzeichen ein.<pre>>>> test</pre>\",\n",
    "        \"type\": \"string\",\n",
    "        \"answers\": [\n",
    "            { \"answer\": \"NameError:\", \"correct\": True,\n",
    "              \"match_case\": False, \"fuzzy_threshold\": 0.9,\n",
    "              \"feedback\": \"Korrekt. Wie in der Fehlermeldung angegeben ist die Variable `test` nicht definiert, weshalb Sie deren Wert nicht auslesen können.\"},\n",
    "        ]\n",
    "    }]\n",
    "display_quiz(q, colors=c)"
   ]
  }
 ],
 "metadata": {
  "kernelspec": {
   "display_name": "Python 3 (ipykernel)",
   "language": "python",
   "name": "python3"
  },
  "language_info": {
   "codemirror_mode": {
    "name": "ipython",
    "version": 3
   },
   "file_extension": ".py",
   "mimetype": "text/x-python",
   "name": "python",
   "nbconvert_exporter": "python",
   "pygments_lexer": "ipython3",
   "version": "3.13.7"
  }
 },
 "nbformat": 4,
 "nbformat_minor": 5
}
