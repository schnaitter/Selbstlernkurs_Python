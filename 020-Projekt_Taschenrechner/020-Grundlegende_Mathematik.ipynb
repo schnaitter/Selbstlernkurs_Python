{
 "cells": [
  {
   "cell_type": "markdown",
   "id": "82dcd1db",
   "metadata": {
    "editable": true,
    "slideshow": {
     "slide_type": ""
    },
    "tags": []
   },
   "source": [
    "---\n",
    "short_title: Mathe in Python\n",
    "numbering:\n",
    "    heading_1: true\n",
    "    heading_2: true\n",
    "    title: true\n",
    "    figure:\n",
    "        template: Abb. %s\n",
    "---\n",
    "# Grundlegende Mathematik in Python\n",
    "\n",
    "Python beinhaltet standardmäßig Operatoren für alle grundlegenden Berechnungen,\n",
    "die Sie normalerweise im Laufe eines Programmes durchführen wollen.\n",
    "\n",
    "## Arithmetische Operationen\n",
    "\n",
    "In den nachfolgenden Unterabschnitten lernen Sie die Python Operatoren für grundlegende Arithmetik kennen.\n",
    "\n",
    "### Addition\n",
    ":::::{margin}\n",
    "::::{hint} Variablen\n",
    "\n",
    "Eine Variable wird definiert und deren Wert festgelegt, wenn sie links von einem Python Ausdruck steht:\n",
    ":::python\n",
    "a = 5\n",
    "a = 10\n",
    ":::\n",
    "::::\n",
    "\n",
    "::::{hint} \"plus equal\" Operator\n",
    "\n",
    "Soll der Wert einer Variablen um einen bestimmten Wert verändert werden, so kann dies mit dem Operator `+=` geschehen.\n",
    "\n",
    ":::python\n",
    "a = 10\n",
    "a += 1\n",
    "a +=4\n",
    ":::\n",
    "\n",
    "Dieser Operator ist äquivalent zum folgenden Ausdruck:\n",
    ":::python\n",
    "a = a + 1\n",
    ":::\n",
    "::::\n",
    ":::::\n",
    "Die Addition in Python nutzt wie zu erwarten das Zeichen `+`."
   ]
  },
  {
   "cell_type": "code",
   "execution_count": 1,
   "id": "bf70478f",
   "metadata": {},
   "outputs": [
    {
     "data": {
      "text/plain": [
       "4"
      ]
     },
     "execution_count": 1,
     "metadata": {},
     "output_type": "execute_result"
    }
   ],
   "source": [
    "2 + 2"
   ]
  },
  {
   "cell_type": "markdown",
   "id": "f1846798",
   "metadata": {},
   "source": [
    "Ganzzahlen in Python können dabei beliebig groß sein."
   ]
  },
  {
   "cell_type": "code",
   "execution_count": 2,
   "id": "d340b7a3",
   "metadata": {},
   "outputs": [
    {
     "data": {
      "text/plain": [
       "4000000000000"
      ]
     },
     "execution_count": 2,
     "metadata": {},
     "output_type": "execute_result"
    }
   ],
   "source": [
    "2000000000000 + 2000000000000"
   ]
  },
  {
   "cell_type": "markdown",
   "id": "9db58baf",
   "metadata": {},
   "source": [
    "Es können mehrere Operationen hintereinander gestellt werden."
   ]
  },
  {
   "cell_type": "code",
   "execution_count": 3,
   "id": "7622700d",
   "metadata": {
    "editable": true,
    "slideshow": {
     "slide_type": ""
    },
    "tags": []
   },
   "outputs": [
    {
     "data": {
      "text/plain": [
       "1111111111111111111111111111"
      ]
     },
     "execution_count": 3,
     "metadata": {},
     "output_type": "execute_result"
    }
   ],
   "source": [
    "987654321987654321987654321 + 123456789123456789123456789 + 1"
   ]
  },
  {
   "cell_type": "markdown",
   "id": "0aba1e8d-b466-4994-9f1b-f4b6018b9d36",
   "metadata": {
    "editable": true,
    "slideshow": {
     "slide_type": ""
    },
    "tags": []
   },
   "source": [
    "Dies ist äquivalent zu:"
   ]
  },
  {
   "cell_type": "code",
   "execution_count": 4,
   "id": "81a10e62",
   "metadata": {
    "editable": true,
    "slideshow": {
     "slide_type": ""
    },
    "tags": []
   },
   "outputs": [
    {
     "data": {
      "text/plain": [
       "1111111111111111111111111111"
      ]
     },
     "execution_count": 4,
     "metadata": {},
     "output_type": "execute_result"
    }
   ],
   "source": [
    "a = 987654321987654321987654321 + 123456789123456789123456789\n",
    "a += 1\n",
    "a"
   ]
  },
  {
   "cell_type": "markdown",
   "id": "53412452",
   "metadata": {
    "editable": true,
    "slideshow": {
     "slide_type": ""
    },
    "tags": []
   },
   "source": [
    "### Subtraktion\n",
    "\n",
    "Ähnlich zur Addition funktioniert auch die Subtraktion."
   ]
  },
  {
   "cell_type": "code",
   "execution_count": 5,
   "id": "d8531fc6",
   "metadata": {},
   "outputs": [
    {
     "data": {
      "text/plain": [
       "864197532864197532864197532"
      ]
     },
     "execution_count": 5,
     "metadata": {},
     "output_type": "execute_result"
    }
   ],
   "source": [
    "987654321987654321987654321 - 123456789123456789123456789"
   ]
  },
  {
   "cell_type": "markdown",
   "id": "d6bb6d6f",
   "metadata": {
    "editable": true,
    "slideshow": {
     "slide_type": ""
    },
    "tags": []
   },
   "source": [
    "Da so große Zahlen schnell unübersichtlich werden erlaubt Python die Nutzung von `_` in einer Zahl. Dieses Zeichen wird bei der Verarbeitung einfach ignoriert."
   ]
  },
  {
   "cell_type": "code",
   "execution_count": 6,
   "id": "011fc4cc",
   "metadata": {},
   "outputs": [
    {
     "data": {
      "text/plain": [
       "4294901760"
      ]
     },
     "execution_count": 6,
     "metadata": {},
     "output_type": "execute_result"
    }
   ],
   "source": [
    "4_294_967_296 - 65_536"
   ]
  },
  {
   "cell_type": "markdown",
   "id": "44bb7862",
   "metadata": {},
   "source": [
    "- Mathematische Operationen\n",
    "    - `+`, `-`, `*`, `/`\n",
    "    - `%`, `//`\n",
    "    - `**`\n",
    "- Zahlen\n",
    "    - `int()`\n",
    "    - `float()`"
   ]
  }
 ],
 "metadata": {
  "jupytext": {
   "default_lexer": "python3"
  },
  "kernelspec": {
   "display_name": "Python 3 (ipykernel)",
   "language": "python",
   "name": "python3"
  },
  "language_info": {
   "codemirror_mode": {
    "name": "ipython",
    "version": 3
   },
   "file_extension": ".py",
   "mimetype": "text/x-python",
   "name": "python",
   "nbconvert_exporter": "python",
   "pygments_lexer": "ipython3",
   "version": "3.13.7"
  },
  "numbering": {
   "figure": {
    "template": "Abb. %s"
   },
   "heading_1": true,
   "heading_2": true,
   "title": true
  }
 },
 "nbformat": 4,
 "nbformat_minor": 5
}
