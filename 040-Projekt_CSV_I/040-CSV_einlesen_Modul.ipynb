{
 "cells": [
  {
   "cell_type": "markdown",
   "id": "ea9b1de2-17ee-40aa-a796-706cedce3a8d",
   "metadata": {},
   "source": [
    "---\n",
    "short_title: 'Das Modul `csv`'\n",
    "numbering:\n",
    "    heading_1: true\n",
    "    heading_2: true\n",
    "    title: true\n",
    "---\n",
    "\n",
    "# CSV einlesen mit dem `csv`-Package\n",
    "\n",
    "In diesem Abschnitt nutzen wir das Package `csv`.\n",
    "\n"
   ]
  }
 ],
 "metadata": {
  "kernelspec": {
   "display_name": "Python 3 (ipykernel)",
   "language": "python",
   "name": "python3"
  },
  "language_info": {
   "codemirror_mode": {
    "name": "ipython",
    "version": 3
   },
   "file_extension": ".py",
   "mimetype": "text/x-python",
   "name": "python",
   "nbconvert_exporter": "python",
   "pygments_lexer": "ipython3",
   "version": "3.13.7"
  }
 },
 "nbformat": 4,
 "nbformat_minor": 5
}
