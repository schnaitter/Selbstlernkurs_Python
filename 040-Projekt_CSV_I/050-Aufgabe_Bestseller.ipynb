{
 "cells": [
  {
   "cell_type": "markdown",
   "id": "ea9b1de2-17ee-40aa-a796-706cedce3a8d",
   "metadata": {},
   "source": [
    "---\n",
    "numbering:\n",
    "    heading_1: true\n",
    "    heading_2: true\n",
    "    title: true\n",
    "---\n",
    "# Aufgabe: Bestseller finden\n",
    "\n",
    "::::{important} Finden Sie den Bestseller in den Daten\n",
    "\n",
    "Werten Sie den synthetische Datensatz zu Verkaufszahlen aus und finden Sie das Werk mit den meisten verkauften Werken insgesamt.\n",
    "\n",
    "Finden Sie ebenfalls das Werk mit den meisten Jahren, in denen das Werk Bestseller war.\n",
    "\n",
    "Von den Werken, die in mindestens einem Jahr Bestseller waren, welches Werk wurde am seltensten gekauft?\n",
    "\n",
    "Verändern Sie das Skript `generate_csv.py` so, dass Sie für die Jahre 1990 bis 2025 Verkaufszahlen generieren. Welche Statistiken erhalten Sie dann. Legen Sie den Datensatz, den Sie generiert haben, Ihrer Abgabe bei. \n",
    "\n",
    "::::\n",
    "\n",
    "```{hint} 📝 Kleine Aufgabe\n",
    ":icon: false\n",
    "\n",
    "Diese Aufgabe kann als Kleine Aufgabe abgegeben werden.\n",
    "```"
   ]
  }
 ],
 "metadata": {
  "kernelspec": {
   "display_name": "Python 3 (ipykernel)",
   "language": "python",
   "name": "python3"
  },
  "language_info": {
   "codemirror_mode": {
    "name": "ipython",
    "version": 3
   },
   "file_extension": ".py",
   "mimetype": "text/x-python",
   "name": "python",
   "nbconvert_exporter": "python",
   "pygments_lexer": "ipython3",
   "version": "3.13.7"
  }
 },
 "nbformat": 4,
 "nbformat_minor": 5
}
