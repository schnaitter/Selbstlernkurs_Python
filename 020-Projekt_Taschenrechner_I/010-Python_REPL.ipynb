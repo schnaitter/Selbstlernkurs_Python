{
 "cells": [
  {
   "cell_type": "markdown",
   "id": "ba0180d5",
   "metadata": {
    "editable": true,
    "slideshow": {
     "slide_type": ""
    },
    "tags": []
   },
   "source": [
    "---\n",
    "short_title: REPL\n",
    "numbering:\n",
    "    heading_1: true\n",
    "    heading_2: true\n",
    "    title: true\n",
    "---\n",
    "\n",
    "# Die Read-Eval-Print-Loop (REPL)\n",
    "\n",
    "Im Kapitel zur Installation haben Sie einmal `python3 --version` im Terminal\n",
    "ausgeführt um sicherzustellen, dass Sie ein aktuelles und funktionierendes\n",
    "Python installiert haben. Nun machen Sie die ersten Schritte mit Python Code.\n",
    "\n",
    "## Starten der Python REPL\n",
    "\n",
    ":::::{margin}\n",
    "::::{seealso} Terminal-Nutzung\n",
    "Im gesamten Kurs werden Eingaben im Terminal wie folgt dargestellt:\n",
    ":::console\n",
    "$ echo \"Hallo Welt\"\n",
    "Hallo Welt\n",
    ":::\n",
    "Dabei beginnen Zeilen mit einem Terminal-Befehl mit `$ ` und darauffolgende\n",
    "Zeilen bis zum nächsten `$ ` die Ausgabe des Befehls. Wenn Sie die Schritte\n",
    "nachvollziehen, geben Sie den Befehl selbst ein und 'starten' diesen mit\n",
    "{kbd}`Enter`.\n",
    "\n",
    "Es werden nicht alle Ausgaben (vollständig) dargestellt.\n",
    "\n",
    "Achten Sie darauf, dass Sie ggf. Dateipfade anpassen müssen. Mehr dazu im\n",
    "[Exkurs: Unix](/030-Exkurs_Unix/Einleitung.md).\n",
    "::::\n",
    ":::::\n",
    "\n",
    "Führen Sie das Programm `python3` im Terminal aus, so startet es in die REPL.\n",
    "\n",
    "```console\n",
    "$ python3\n",
    "Python 3.13.7 (main, Aug 14 2025, 11:12:11) [Clang 17.0.0 (clang-1700.0.13.3)] on darwin\n",
    "Type \"help\", \"copyright\", \"credits\" or \"license\" for more information.\n",
    ">>>\n",
    "```\n",
    "\n",
    "Um die REPL zu verlassen, tippen Sie `quit()` oder nutzen Sie (in\n",
    "Unix-basierten Betriebssysteme) die Tastekombination {kbd}`Strg`+{kbd}`D`.\n",
    "\n",
    "## Ihr erstes Python\n",
    "\n",
    "Die REPL verhält sich ähnlich zum Terminal, nur dass nicht Befehle nach\n",
    "(typischerweise) einem \"`$ `\" eingegeben werden, sondern dass Python-Code nach\n",
    "einem \"`>>> `\" eingegeben wird.\n",
    "\n",
    "Nachfolgend finden Sie ein paar Beispiele. Probieren Sie diese selbst aus und\n",
    "ändern Sie sie dann ab.\n",
    "\n",
    "```python-repl\n",
    ">>> 2+2\n",
    "4\n",
    "```\n",
    "\n",
    "```python-repl\n",
    ">>> \"Hallo, Welt!\"\n",
    "'Hallo, Welt!\"\n",
    "```\n",
    "\n",
    "```python-repl\n",
    ">>> print(\"Hallo, Welt!\")\n",
    "Hallo, Welt!\n",
    "```\n",
    "\n",
    "Ist der Python-Code noch nicht vollständig, so verändert sich der Prompt zu `... `.\n",
    "\n",
    "```python-repl\n",
    ">>> print(\n",
    "...\n",
    "... \"Hallo\"\n",
    "... )\n",
    "Hallo\n",
    "```\n",
    "\n",
    "## Die Struktur einer REPL\n",
    "\n",
    "Eine REPL (siehe {numref}`fig:repl`) ist ein Programm, welches:\n",
    "\n",
    "1. _**R**ead_: Einen Befehl oder hier ein Stück Python-Code einliest.\n",
    "2. _**E**val_: Dann den Code ausführt.\n",
    "3. _**P**rint_: Das Ergebnis des ausgeführten Codes zurück gibt.\n",
    "4. _**L**oop_: Und das solange wiederholt, bis es beendet wird (bei Python via\n",
    "   `quit()`).\n"
   ]
  },
  {
   "cell_type": "markdown",
   "id": "e38bcd2d-773b-46bd-892a-07d44d9622f2",
   "metadata": {
    "editable": true,
    "slideshow": {
     "slide_type": ""
    },
    "tags": []
   },
   "source": [
    "::::{figure}\n",
    ":name: fig:repl\n",
    "```mermaid\n",
    "flowchart LR\n",
    "\n",
    "start((Start)) --> R[Read]\n",
    "R --> E[Eval]\n",
    "E --> P[Print]\n",
    "P --> L{Loop<br>?}\n",
    "L -->|yes| R\n",
    "L -->|no| stop((Stop))\n",
    "```\n",
    "\n",
    "Zustandsdiagramm der Bestandteile einer REPL\n",
    "::::"
   ]
  },
  {
   "cell_type": "markdown",
   "id": "c0730c44-1c2a-439d-a146-00d8d3e37307",
   "metadata": {
    "editable": true,
    "slideshow": {
     "slide_type": ""
    },
    "tags": []
   },
   "source": [
    "Betrachten wir den Ablauf folgendes Szenarios:\n",
    "\n",
    "1. Sie starten den Python-Interpreter mit\n",
    "   ```bash\n",
    "   $ python3\n",
    "   ```\n",
    "2. Python startet, gibt die Versionsinformationen aus und zeigt Ihnen mit dem\n",
    "   Prompt `>>> ` an, dass es zum Einlesen eines Python-Ausdrucks bereit ist.\n",
    "   \n",
    "   Die REPL ist nun im Zustand _Read_.\n",
    "3. Sie können nun einen Python-Ausdruck eingeben. Dieser kann `print(\"Hallo\")` sein oder aber auch\n",
    "   ```\n",
    "   >>> print(\n",
    "   ...   \"Hallo\"\n",
    "   ... )\n",
    "   ```\n",
    "   \n",
    "   Während Sie den Ausdruck eingeben bleibt die REPL im Status _Read_. Haben\n",
    "   Sie einen vollständigen Ausdruck eingegeben (Wann ein Ausdruck \"vollständig\"\n",
    "   ist lernen Sie später.) und drücken Sie dann die Eingabetaste, so wechselt\n",
    "   die REPL in den Zustand _Eval_.\n",
    "4. Bei der Evaluation des Python-Ausdrucks versucht der Interpreter, den Code\n",
    "   auszuführen. Ist er korrekt (und bezieht sich nur auf Namen(/Variablen), die\n",
    "   bereits definiert wurden), so wird der Code ausgeführt. Nachdem der Code\n",
    "   ausgeführt wurde wechselt die REPL in den Zustand _Print_ und es wird das\n",
    "   **Ergebnis** des gerade ausgeführten Python-Codes gedruckt.\n",
    "5. Dann wird in den Zustand _Loop_ gewechselt und überprüft, ob eine\n",
    "   Abbruchbedingung erreicht wurde. Ist dies nicht der Fall – soll also wieder\n",
    "   von Anfang begonnen werden so wechselt die REPL zurück in den Zustand _Read_\n",
    "   und der Ablauf springt damit zu Schritt 2. Soll die Schleife nicht fortgesetzt\n",
    "   werden, so geht die REPL über in den Zustand _Stop_ und der Python-Interpreter\n",
    "   wird beendet."
   ]
  },
  {
   "cell_type": "markdown",
   "id": "099f1f56-f189-4be3-8a58-e888507e9169",
   "metadata": {
    "editable": true,
    "slideshow": {
     "slide_type": ""
    },
    "tags": []
   },
   "source": [
    "## Lernstandskontrolle"
   ]
  },
  {
   "cell_type": "markdown",
   "id": "73fd1516-282e-41c7-a42f-815d983841dd",
   "metadata": {},
   "source": [
    "**Nachvollziehen der Zustände der REPL**\n",
    "::::{admonition} 💪 Übung\n",
    ":icon: false\n",
    "\n",
    "Nachvollziehen Sie die nachfolgende REPL-Interaktion. Was sind Ausgaben per\n",
    "`print` und was sind Ausgaben durch den Zustand _Print_ der REPL?\n",
    "\n",
    "```python-repl\n",
    ">>> hallo = \"Hallo Python-Lernende\"      # 1\n",
    ">>> hallo                                # 2\n",
    "'Hallo Python-Lernende'                  # 3\n",
    ">>> print(hallo)                         # 4\n",
    "Hallo Python-Lernende                    # 5\n",
    ">>> print(\"Hallo Python-Lernende\")       # 6\n",
    "Hallo Python-Lernende                    # 7\n",
    ">>> \n",
    "```\n",
    "\n",
    ":::{dropdown} ✅ Lösung\n",
    "\n",
    "_**zu 1:**_ Hier wird eine Variable mit dem Namen `hallo` erzeugt in der das\n",
    "String-Literal `\"Hallo Python-Lernende\"` gespeichert wird. Dieser Ausdruck hat\n",
    "kein Ergebnis, weshalb nach der Zeile sofort der Prompt für die nächste Eingabe\n",
    "angezeigt wird.\n",
    "\n",
    "_**zu 2:**_ Hier besteht der Python-Ausdruck nur aus der Variablen mit dem\n",
    "Namen `hallo`. Eine Variable hat ihren Wert als Ergebnis, weshalb im Zustand\n",
    "_Print_ der REPL das String-Literat `'Hallo Python-Lernende'` ausgegeben wird\n",
    "(siehe _**3**_).\n",
    "\n",
    "Beachten Sie, dass in Python Strings entweder mit `'` oder mit `\"` umschlossen\n",
    "werden können. Sie sind gleichwertig und die Verwendung ist nur relevant, wenn\n",
    "der String selbst ein `'` oder ein `\"` enthält. Der String `\"Wie geht's?\"`\n",
    "müssten mit einfachen Anführungszeichen mit Hilfe eines sog. Escape-Zeichens\n",
    "geschrieben werden: `'Wie geht\\'s?'`. Anders herum wäre es bei diesem String:\n",
    "`\"Sie sagte: \\\"Hallo.\\\"\"` bzw. `'Sie sagte: \"Hallo.\"'`.\n",
    "\n",
    "_**zu 4:**_ Hier wird die Funktion `print()` genutzt um den Wert der Variablen\n",
    "`hallo` zu drucken. Dies geschieht im Zustand _Eval_ und die Ausgabe dazu ist\n",
    "in _**5**_ zu sehen. Die Funktion `print()` hat selbst kein Ergebnis, weshalb\n",
    "nichts zusätzliches durch den Zustand _Print_ ausgegeben wird.\n",
    "\n",
    "_**zu 6:**_ In diesem Schritt wird wie beim ersten Beispiel die Funktion\n",
    "`print()` mit einem String-Literal genutzt. Die Ausgabe in _**7**_ ist von der\n",
    "Version, die die Variable `hallo` nutzt nicht zu unterscheiden.\n",
    "\n",
    "::: \n",
    "\n",
    ":::: \n",
    "\n"
   ]
  },
  {
   "cell_type": "markdown",
   "id": "4a49e5c5-3f23-4f83-9a51-3ab4f70db039",
   "metadata": {},
   "source": [
    ":::{hint} Kommentare in Python-Code\n",
    "\n",
    "Die Zahlen am Ende eines Ausdrucks (bspw. `# 1`) sind ein Kommentar, um in der\n",
    "Musterlösung einzelne Zeilen referenzieren zu können.\n",
    "\n",
    "In Python beginnen Kommentare mit einem `#` und es wir alles bis zum Zeilenende\n",
    "vom Interpreter ignoriert. Kommentare sind für Menschen, die den Code lesen\n",
    "gedacht und nicht für den Computer.\n",
    "\n",
    "::: \n",
    "\n",
    "\n"
   ]
  },
  {
   "cell_type": "markdown",
   "id": "421eb2dd-5d59-472d-9323-9157279b8b21",
   "metadata": {},
   "source": [
    "**Nutzung der REPL**"
   ]
  },
  {
   "cell_type": "code",
   "execution_count": null,
   "id": "1281feb0-3f98-4346-bc83-76223658319f",
   "metadata": {
    "editable": true,
    "slideshow": {
     "slide_type": ""
    },
    "tags": [
     "remove-cell"
    ]
   },
   "outputs": [],
   "source": [
    "from jupyterquiz import display_quiz\n",
    "c = { '--jq-multiple-choice-bg': '#202080',\n",
    "      '--jq-mc-button-bg': '#fafafa',\n",
    "      '--jq-mc-button-border': '#e0e0e0e0',\n",
    "      '--jq-mc-button-inset-shadow': '#555555',\n",
    "      '--jq-many-choice-bg': '#202080',\n",
    "      '--jq-numeric-bg': '#202080',\n",
    "      '--jq-numeric-input-bg': '#c0c0c0',\n",
    "      '--jq-numeric-input-label': '#101010',\n",
    "      '--jq-numeric-input-shadow': '#999999',\n",
    "      '--jq-string-bg': '#202080',\n",
    "      '--jq-incorrect-color': '#c80202',\n",
    "      '--jq-correct-color': '#009113',\n",
    "      '--jq-text-color': '#fafafa',\n",
    "      '--jq-link-color': '#9abafa' }"
   ]
  },
  {
   "cell_type": "code",
   "execution_count": null,
   "id": "1ee1c360-0a38-42ef-a11c-316edd98c058",
   "metadata": {
    "editable": true,
    "slideshow": {
     "slide_type": ""
    },
    "tags": [
     "remove-input"
    ]
   },
   "outputs": [],
   "source": [
    "q = [{\n",
    "        \"question\": \"Welche Ausgabe erhalten Sie, wenn Sie <pre>>>> 3**3</pre> in die REPL eingeben?\",\n",
    "        \"type\": \"multiple_choice\",\n",
    "        \"answers\": [\n",
    "            { \"code\": \"3**3\", \"correct\": False },\n",
    "            { \"code\": \"27\", \"correct\": True },\n",
    "            { \"code\": \"6\", \"correct\": False },\n",
    "            { \"code\": \"33\", \"correct\": False },\n",
    "            { \"code\": \"333\", \"correct\": False },\n",
    "            { \"code\": \"SyntaxError\", \"correct\": False }\n",
    "        ]\n",
    "    },\n",
    "    {\n",
    "        \"question\": \"Wie können Sie eine Kommazahl in Python eingeben?<br>Probieren Sie auch die falschen Optionen aus. Was ist deren Ergebnis?\",\n",
    "        \"type\": \"multiple_choice\",\n",
    "        \"answers\": [\n",
    "            { \"code\": \"12,34\", \"correct\": False },\n",
    "            { \"code\": \"12.34\", \"correct\": True },\n",
    "            { \"code\": \"1234e-2\", \"correct\": True },\n",
    "            { \"code\": \"123,4e-1\", \"correct\": False },\n",
    "        ]\n",
    "    },\n",
    "    {\n",
    "        \"question\": \"Welche Ausgabe ergibt die folgende Eingabe in die REPL? Geben die Ausgabe bis zum ersten Leerzeichen ein.<pre>>>> test</pre>\",\n",
    "        \"type\": \"string\",\n",
    "        \"answers\": [\n",
    "            { \"answer\": \"NameError:\", \"correct\": True,\n",
    "              \"match_case\": False, \"fuzzy_threshold\": 0.9,\n",
    "              \"feedback\": \"Korrekt. Wie in der Fehlermeldung angegeben ist die Variable `test` nicht definiert, weshalb Sie deren Wert nicht auslesen können.\"},\n",
    "            { \"answer\": \"Traceback\", \"correct\": True,\n",
    "              \"match_case\": False, \"fuzzy_threshold\": 0.9,\n",
    "              \"feedback\": \"Korrekt. Sie sehen einen sog. Traceback, welcher es bei komplizierteren Fehlern ermöglicht die ursprüngliche Fehlermeldung zu finden. Der Fehler 'NameError' sagt, dass der Name `test` bisher nicht als Variable, Funktionsname, … definiert wurde.\"},\n",
    "        ]\n",
    "    }]\n",
    "display_quiz(q, colors=c)"
   ]
  }
 ],
 "metadata": {
  "kernelspec": {
   "display_name": "Python 3 (ipykernel)",
   "language": "python",
   "name": "python3"
  },
  "language_info": {
   "codemirror_mode": {
    "name": "ipython",
    "version": 3
   },
   "file_extension": ".py",
   "mimetype": "text/x-python",
   "name": "python",
   "nbconvert_exporter": "python",
   "pygments_lexer": "ipython3",
   "version": "3.13.7"
  }
 },
 "nbformat": 4,
 "nbformat_minor": 5
}
