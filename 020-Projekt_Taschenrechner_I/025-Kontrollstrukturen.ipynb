{
 "cells": [
  {
   "cell_type": "markdown",
   "id": "4b135899-e691-4ec3-8d9e-e9f5960bc154",
   "metadata": {
    "editable": true,
    "slideshow": {
     "slide_type": ""
    },
    "tags": []
   },
   "source": [
    "---\n",
    "numbering:\n",
    "    heading_1: true\n",
    "    heading_2: true\n",
    "    title: true\n",
    "---\n",
    "# Kontrollstrukturen\n",
    "\n",
    "Bevor wir uns die Speicherung von Python-Code in verschiedenen Dateien ansehen\n",
    "führen wir zuerst ein paar Konzepte des Kontrollflusses bzw. der\n",
    "Kontrollstrukturen, die den Programmfluss beeinflussen an.\n",
    "\n",
    "Bisher haben wir in der REPL nacheinander einzelne Schritte eingegeben und\n",
    "ausgeführt. In den Beispielen gab es ab und zu Code-Zellen, in denen mehrere\n",
    "Python-Ausdrücke untereinander standen. All das bietet den ersten Hinweis auf\n",
    "das Standardverhalten von Python-Code:\n",
    "\n",
    "```{important} Programmfluss\n",
    "Python-Code wird von oben nach unten ausgeführt.\n",
    "```\n",
    "\n",
    "Dies ist zu sehen an den folgenden zwei Code-Beispielen.\n"
   ]
  },
  {
   "cell_type": "markdown",
   "id": "3b2b085b-759c-418e-a6cb-985e0a116300",
   "metadata": {},
   "source": [
    "**Beispiel 1:**"
   ]
  },
  {
   "cell_type": "code",
   "execution_count": 3,
   "id": "35b1500f-836b-49b0-ba5d-27251af3de95",
   "metadata": {},
   "outputs": [
    {
     "name": "stdout",
     "output_type": "stream",
     "text": [
      "11\n"
     ]
    }
   ],
   "source": [
    "a = 5\n",
    "a *= 2\n",
    "a += 1\n",
    "print(a)"
   ]
  },
  {
   "cell_type": "markdown",
   "id": "a90311e6-5135-4032-a013-a09e90641fd6",
   "metadata": {},
   "source": [
    "**Beispiel 2:**"
   ]
  },
  {
   "cell_type": "code",
   "execution_count": 4,
   "id": "6418a391-10de-4cbf-97a1-b7587bc58530",
   "metadata": {},
   "outputs": [
    {
     "name": "stdout",
     "output_type": "stream",
     "text": [
      "12\n"
     ]
    }
   ],
   "source": [
    "a = 5\n",
    "a += 1\n",
    "a *= 2\n",
    "print(a)"
   ]
  },
  {
   "cell_type": "markdown",
   "id": "116f32eb-b9f8-4b1e-bc86-d9e12987bcd6",
   "metadata": {},
   "source": [
    "Nachvollziehen Sie die beiden Code-Beispiele. Welchen Wert hat die Variable mit\n",
    "dem Namen `a` nachdem jeweils der Ausdruck in jeder Zeile ausgeführt wurde?\n",
    "Welche Werte erhalten Sie, wenn Sie jeweils nicht `a += 1` ausführen sondern\n",
    "`a += 3`?"
   ]
  },
  {
   "cell_type": "markdown",
   "id": "e390d315-f03b-4cc9-8668-32696ff0c995",
   "metadata": {},
   "source": [
    "## `if`-Anweisung\n",
    "\n",
    "Einfach nur den Code von oben nach unten auszuführen reicht oft nicht aus um\n",
    "das gewünschte Ergebnis zu erhalten.\n",
    "\n",
    "Nehmen Sie an, dass Sie Python-Code schreiben sollen, der den Wert in einer\n",
    "Variablen `zahl` halbieren soll, wenn der Wert größer als `10` ist. Ansonsten\n",
    "soll er unberüht bleiben.\n",
    "\n",
    "Wie schon in der deutschsprachigen Beschreibung des Problems zu sehen soll\n",
    "etwas nur dann getan werden, **wenn** eine Bedingung zutrifft. In Python ist\n",
    "dies mit dem `if`-Anweisung möglich."
   ]
  },
  {
   "cell_type": "code",
   "execution_count": 5,
   "id": "5a8892b8-9086-4fe1-8b18-a274b596ed16",
   "metadata": {},
   "outputs": [
    {
     "name": "stdout",
     "output_type": "stream",
     "text": [
      "6\n"
     ]
    }
   ],
   "source": [
    "zahl = 6\n",
    "if zahl > 10:\n",
    "    zahl = zahl / 2\n",
    "print(zahl)"
   ]
  },
  {
   "cell_type": "markdown",
   "id": "59b4fb64-1d8b-4bf8-987b-757924d0e04b",
   "metadata": {},
   "source": [
    "Ändern Sie den Wert von Zahl um zu sehen, ob der `if`-Anweisung korrekt\n",
    "auslöst.\n",
    "\n",
    "Nun soll der Code zusätzlich `3` zur `zahl` addieren, falls `zahl` kleiner oder\n",
    "gleich `10` ist. Dies geht mit der Erweiterung der `if`-Anweisung um `else`."
   ]
  },
  {
   "cell_type": "code",
   "execution_count": 6,
   "id": "dcb2c12c-ba63-4d22-ba2c-face6c02d92f",
   "metadata": {},
   "outputs": [
    {
     "name": "stdout",
     "output_type": "stream",
     "text": [
      "9\n"
     ]
    }
   ],
   "source": [
    "zahl = 6\n",
    "if zahl > 10:\n",
    "    zahl = zahl / 2\n",
    "else:\n",
    "    zahl += 3\n",
    "print(zahl)"
   ]
  },
  {
   "cell_type": "markdown",
   "id": "50f78d92-f31d-45ef-8a67-de2da3874b85",
   "metadata": {},
   "source": [
    "Gibt es mehrere Wertebereiche, in denen die Zahl unterschiedlich verarbeitet\n",
    "werden soll, so können Sie diese mit `elif` zwischen dem `if` und dem `else`\n",
    "definieren.\n",
    "\n",
    "Was passiert mit der Zahl im nachfolgenden Beispiel? Nachvollziehen Sie den\n",
    "ausgeführten Code und ändern Sie die Zahl um alle \"Zweige\" der\n",
    "`if`-Anweisung(en) einmal auszulösen."
   ]
  },
  {
   "cell_type": "code",
   "execution_count": 11,
   "id": "2e56f51d-0cd5-49f9-b220-0abe80f3192e",
   "metadata": {},
   "outputs": [
    {
     "name": "stdout",
     "output_type": "stream",
     "text": [
      "7\n"
     ]
    }
   ],
   "source": [
    "zahl = 6\n",
    "if zahl > 10:\n",
    "    zahl = zahl / 2\n",
    "elif zahl > 5 and zahl <=10: # mit `and` können Sie mehrere Bedingungen verknüpfen\n",
    "    if zahl % 2 == 0:        # mit `==` überprüfen Sie ob beide Seiten gleich sind.\n",
    "        zahl += 1\n",
    "else:\n",
    "    zahl += 3\n",
    "print(zahl)"
   ]
  },
  {
   "cell_type": "markdown",
   "id": "c1610291-1009-4287-a33b-22778bc322a8",
   "metadata": {
    "editable": true,
    "slideshow": {
     "slide_type": ""
    },
    "tags": []
   },
   "source": [
    "**Darf die Nutzer\\*in die gewünschte Anzahl an Büchern ausleihen?**\n",
    "\n",
    "::::{admonition} 💪 Übung\n",
    ":icon: false\n",
    "\n",
    "In einer Bibliothek gibt es ein Ausleihlimit von 15 Büchern. Ab 10\n",
    "ausgeliehenden Büchern wird der Nutzer\\*in mitgeteilt, wie viele Bücher sie\n",
    "ausgeliehen hat.\n",
    "\n",
    "Schreiben Sie Python-Code, der basierend auf den Werten `kontostand` und\n",
    "`aktuell` entscheidet, ob die Person ihre `aktuell`e Ausleihe durchführen darf.\n",
    "\n",
    "Starten Sie mit dem folgenden Code. Drucken Sie jeweils einen passenden Text\n",
    "als Ausgabe für die Nutzer\\*in.\n",
    "\n",
    "```python\n",
    "kontostand = 8   # Im Konto sind bereits 8 Bücher als ausgeliehen verzeichnet.\n",
    "aktuell = 3      # DIe Nutzer*in möchte im aktuellen Durchgang 3 neue Bücher ausleihen.\n",
    "\n",
    "if # Vervollständigen Sie ab hier.\n",
    "```\n",
    "\n",
    ":::{dropdown} ✅ Lösung\n",
    "\n",
    "```{code-cell} python\n",
    "kontostand = 8\n",
    "aktuell = 3\n",
    "\n",
    "if kontostand + aktuell > 15:\n",
    "    print(f\"Sie haben bereits {kontostand} Bücher ausgeliehen. Wenn Sie {aktuell} Bücher ausleihen würden, kämen Sie über die Grenze von 15 Büchern.\\n\\nSie können aktuell maximal {15 - kontostand} weitere Bücher ausleihen.\")\n",
    "elif kontostand + aktuell >= 10: \n",
    "    print(f\"Ihr neuer Kontostand: {kontostand + aktuell} Bücher.\")\n",
    "else:\n",
    "    print(\"Ausleihe erfolgreich.\")\n",
    "```\n",
    "\n",
    "::: \n",
    "\n",
    ":::: "
   ]
  },
  {
   "cell_type": "markdown",
   "id": "2d2755cd-d900-42fc-bed1-f36f1b3f22ff",
   "metadata": {},
   "source": "## Funktionen\n\nWenn Sie die Beispiele zum `if`-Ausdruck nacheinander abgetippt haben, ist\nIhnen sicher die viele Wiederholung aufgefallen.\n\nWollen wir den Kontostand und die Möglichkeit einer Ausleihe mehrmals nutzen,\nso wäre es unschön, wenn wir immer wieder den ganzen Code kopieren müssten.\nHier setzten Funktionen an.\n\nSie haben schon mindestens die Funktion `print()` genutzt, welche Ihnen eine\ngewisse Funktionalität – das Ausgeben von Zeichenketten und Werten –\nermöglicht, ohne, dass Sie jedes Mal (oder überhaupt) wissen müssen, wie man\nText in der REPL, im Terminal, oder in JupyterLab ausgibt.\n\nDie Idee einer Funktion ist es, mehrere Zeilen Code als eine Einheit\nzusammenzustellen und diese über einen Funktionsaufruf wieder ausführen zu\nkönnen. Im obigen Beispiel wäre das der `if`-Ausdruck. Zusätzlich zum\n`if`-Ausdruck müssen auch `kontostand` und `aktuell` korrekt beim\nFunktionsaufruf definiert sein.\n\nUm Werte \"in die Funktion\" zu übermitteln definieren wir sog. Parameter. Um\neinen Wert aus der Funktion herauszubekommen (zum Beispiel den aktualisierten\nKontostand), gibt es einen Rückgabewert.\n\nDas ganze könnte dann so aussehen:"
  },
  {
   "cell_type": "code",
   "execution_count": 13,
   "id": "a86b204f-1112-44fb-a6ca-49ac1d58e634",
   "metadata": {},
   "outputs": [],
   "source": [
    "def ausleihe_überprüfen(kontostand, aktuell):\n",
    "    summe = kontostand + aktuell # in einer Funktion können Sie Variablen erstellen um Zwischenergebnisse zu speichern\n",
    "    if summe > 15:\n",
    "        print(f\"Sie haben bereits {kontostand} Bücher ausgeliehen.\\nWenn Sie {aktuell} Bücher ausleihen würden,\\nkämen Sie über die Grenze von 15 Büchern.\\n\\nSie können aktuell maximal {15 - kontostand} weitere Bücher ausleihen.\")\n",
    "        return kontostand # Eine Ausleihe war nicht möglich, es wird der alte Kontostand zurückgegeben.\n",
    "    elif summe >= 10: \n",
    "        print(f\"Ihr neuer Kontostand: {summe} Bücher.\")\n",
    "        return summe # Die Ausleihe war erfolgreich und der neue Kontostand wird zurückgegeben.\n",
    "    else:\n",
    "        print(\"Ausleihe erfolgreich.\")\n",
    "        return summe # Auch hier war die Ausleihe erfolgreich und es wir der neue Kontostand zurückgegeben."
   ]
  },
  {
   "cell_type": "markdown",
   "id": "f0b5bee3-b6c5-42c5-a28c-2ac40dab5689",
   "metadata": {},
   "source": [
    "Die Funktionsdefinition wurde ausgeführt wodurch der Name\n",
    "`ausleihe_überprüfen()` nun verfügbar ist. Ausgegeben wurde jedoch nichts, da\n",
    "die Funktion noch nicht aufgerufen wurde."
   ]
  },
  {
   "cell_type": "code",
   "execution_count": 14,
   "id": "ad6b807b-fc29-49ae-828a-a426cd6be6ac",
   "metadata": {
    "lines_to_next_cell": 0
   },
   "outputs": [
    {
     "name": "stdout",
     "output_type": "stream",
     "text": [
      "Ihr neuer Kontostand: 11 Bücher.\n",
      "11\n"
     ]
    }
   ],
   "source": [
    "neuer_kontostand = ausleihe_überprüfen(8, 3)\n",
    "print(neuer_kontostand)\n"
   ]
  },
  {
   "cell_type": "markdown",
   "id": "fe98af28",
   "metadata": {},
   "source": []
  }
 ],
 "metadata": {
  "kernelspec": {
   "display_name": "Python 3 (ipykernel)",
   "language": "python",
   "name": "python3"
  },
  "language_info": {
   "codemirror_mode": {
    "name": "ipython",
    "version": 3
   },
   "file_extension": ".py",
   "mimetype": "text/x-python",
   "name": "python",
   "nbconvert_exporter": "python",
   "pygments_lexer": "ipython3",
   "version": "3.13.7"
  }
 },
 "nbformat": 4,
 "nbformat_minor": 5
}
