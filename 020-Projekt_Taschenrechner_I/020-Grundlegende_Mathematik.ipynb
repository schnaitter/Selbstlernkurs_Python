{
 "cells": [
  {
   "cell_type": "markdown",
   "id": "82dcd1db",
   "metadata": {
    "editable": true,
    "slideshow": {
     "slide_type": ""
    },
    "tags": []
   },
   "source": [
    "---\n",
    "short_title: Mathe in Python\n",
    "numbering:\n",
    "    heading_1: true\n",
    "    heading_2: true\n",
    "    title: true\n",
    "---\n",
    "# Grundlegende Mathematik in Python\n",
    "\n",
    "Python beinhaltet standardmäßig Operatoren für alle grundlegenden Berechnungen,\n",
    "die Sie normalerweise im Laufe eines Programmes durchführen wollen.\n",
    "\n",
    "## Arithmetische Operationen\n",
    "\n",
    "In den nachfolgenden Unterabschnitten lernen Sie die Python Operatoren für\n",
    "grundlegende Arithmetik kennen.\n",
    "\n",
    "### Addition\n",
    ":::::{margin}\n",
    "::::{hint} Variablen\n",
    "\n",
    "Eine Variable wird definiert und deren Wert festgelegt, wenn sie links von\n",
    "einem Python Ausdruck steht:\n",
    "\n",
    "```python-repl\n",
    ">>> a = 5\n",
    ">>> a\n",
    "5\n",
    ">>> a = 10\n",
    ">>> a\n",
    "10\n",
    "```\n",
    "\n",
    "Der Ausdruck muss einen Wert haben, ansonsten bleibt die Variable \"leer\":\n",
    "\n",
    "```python-repl\n",
    ">>> a = print(\"test\")\n",
    "test\n",
    ">>> a\n",
    ">>> \n",
    "```\n",
    "\n",
    "::::\n",
    "\n",
    "::::{hint} \"plus equal\" Operator\n",
    "\n",
    "Soll der Wert einer Variablen um einen bestimmten Wert verändert werden, so\n",
    "kann dies mit dem Operator `+=` geschehen.\n",
    "\n",
    "```python\n",
    "a = 10\n",
    "a += 1\n",
    "a +=4\n",
    "```\n",
    "\n",
    "Dieser Operator ist äquivalent zum folgenden Ausdruck:\n",
    "\n",
    "```python\n",
    "a = a + 1\n",
    "```\n",
    "::::\n",
    ":::::\n",
    "\n",
    "Die Addition in Python nutzt wie zu erwarten das Zeichen `+`."
   ]
  },
  {
   "cell_type": "code",
   "execution_count": 1,
   "id": "bf70478f",
   "metadata": {},
   "outputs": [
    {
     "data": {
      "text/plain": [
       "4"
      ]
     },
     "execution_count": 1,
     "metadata": {},
     "output_type": "execute_result"
    }
   ],
   "source": [
    "2 + 2"
   ]
  },
  {
   "cell_type": "markdown",
   "id": "f1846798",
   "metadata": {},
   "source": [
    "Ganzzahlen in Python können dabei beliebig groß sein."
   ]
  },
  {
   "cell_type": "code",
   "execution_count": 2,
   "id": "d340b7a3",
   "metadata": {},
   "outputs": [
    {
     "data": {
      "text/plain": [
       "4000000000000"
      ]
     },
     "execution_count": 2,
     "metadata": {},
     "output_type": "execute_result"
    }
   ],
   "source": [
    "2000000000000 + 2000000000000"
   ]
  },
  {
   "cell_type": "markdown",
   "id": "9db58baf",
   "metadata": {
    "editable": true,
    "slideshow": {
     "slide_type": ""
    },
    "tags": []
   },
   "source": [
    "Es können mehrere Operationen hintereinander gestellt werden."
   ]
  },
  {
   "cell_type": "code",
   "execution_count": 3,
   "id": "7622700d",
   "metadata": {
    "editable": true,
    "slideshow": {
     "slide_type": ""
    },
    "tags": []
   },
   "outputs": [
    {
     "data": {
      "text/plain": [
       "1111111111111111111111111111"
      ]
     },
     "execution_count": 3,
     "metadata": {},
     "output_type": "execute_result"
    }
   ],
   "source": [
    "987654321987654321987654321 + 123456789123456789123456789 + 1"
   ]
  },
  {
   "cell_type": "markdown",
   "id": "0aba1e8d-b466-4994-9f1b-f4b6018b9d36",
   "metadata": {
    "editable": true,
    "slideshow": {
     "slide_type": ""
    },
    "tags": []
   },
   "source": [
    "Dies ist äquivalent zu:"
   ]
  },
  {
   "cell_type": "code",
   "execution_count": 4,
   "id": "81a10e62",
   "metadata": {
    "editable": true,
    "slideshow": {
     "slide_type": ""
    },
    "tags": []
   },
   "outputs": [
    {
     "data": {
      "text/plain": [
       "1111111111111111111111111111"
      ]
     },
     "execution_count": 4,
     "metadata": {},
     "output_type": "execute_result"
    }
   ],
   "source": [
    "a = 987654321987654321987654321 + 123456789123456789123456789\n",
    "a += 1\n",
    "a"
   ]
  },
  {
   "cell_type": "markdown",
   "id": "53412452",
   "metadata": {
    "editable": true,
    "slideshow": {
     "slide_type": ""
    },
    "tags": []
   },
   "source": [
    "### Subtraktion\n",
    "\n",
    "Ähnlich zur Addition funktioniert auch die Subtraktion."
   ]
  },
  {
   "cell_type": "code",
   "execution_count": 5,
   "id": "d8531fc6",
   "metadata": {
    "editable": true,
    "slideshow": {
     "slide_type": ""
    },
    "tags": []
   },
   "outputs": [
    {
     "data": {
      "text/plain": [
       "864197532864197532864197532"
      ]
     },
     "execution_count": 5,
     "metadata": {},
     "output_type": "execute_result"
    }
   ],
   "source": [
    "987654321987654321987654321 - 123456789123456789123456789"
   ]
  },
  {
   "cell_type": "markdown",
   "id": "d6bb6d6f",
   "metadata": {
    "editable": true,
    "slideshow": {
     "slide_type": ""
    },
    "tags": []
   },
   "source": [
    "\n",
    "Da so große Zahlen schnell unübersichtlich werden erlaubt Python die Nutzung\n",
    "von `_` in einer Zahl. Dieses Zeichen wird bei der Verarbeitung einfach\n",
    "ignoriert.\n"
   ]
  },
  {
   "cell_type": "code",
   "execution_count": 6,
   "id": "011fc4cc",
   "metadata": {
    "editable": true,
    "slideshow": {
     "slide_type": ""
    },
    "tags": []
   },
   "outputs": [
    {
     "data": {
      "text/plain": [
       "4294901760"
      ]
     },
     "execution_count": 6,
     "metadata": {},
     "output_type": "execute_result"
    }
   ],
   "source": [
    "4_294_967_296 - 65_536"
   ]
  },
  {
   "cell_type": "markdown",
   "id": "f7a357a2-be12-4958-baee-7a297665b949",
   "metadata": {
    "editable": true,
    "slideshow": {
     "slide_type": ""
    },
    "tags": []
   },
   "source": [
    "### Multiplikation\n",
    "\n",
    "Die Multiplikation funktioniert analog:"
   ]
  },
  {
   "cell_type": "code",
   "execution_count": 7,
   "id": "691fef50-eb44-4fde-bdba-171290278113",
   "metadata": {
    "editable": true,
    "slideshow": {
     "slide_type": ""
    },
    "tags": []
   },
   "outputs": [
    {
     "data": {
      "text/plain": [
       "9"
      ]
     },
     "execution_count": 7,
     "metadata": {},
     "output_type": "execute_result"
    }
   ],
   "source": [
    "3*3"
   ]
  },
  {
   "cell_type": "code",
   "execution_count": 8,
   "id": "b56a08ac-9f05-472d-bdcf-aed8cf5a8871",
   "metadata": {
    "editable": true,
    "scrolled": true,
    "slideshow": {
     "slide_type": ""
    },
    "tags": []
   },
   "outputs": [
    {
     "data": {
      "text/plain": [
       "28.259999999999998"
      ]
     },
     "execution_count": 8,
     "metadata": {},
     "output_type": "execute_result"
    }
   ],
   "source": [
    "# pi * r^2\n",
    "3.14 * 3*3"
   ]
  },
  {
   "cell_type": "markdown",
   "id": "ca1a3dbb-fec0-4f9b-bfde-cb1c6f0e634f",
   "metadata": {
    "editable": true,
    "slideshow": {
     "slide_type": ""
    },
    "tags": []
   },
   "source": [
    "### Division / Ganzzahldivision / Modulo (Rest)\n",
    "\n",
    "Bei der Division gibt es ein paar Dinge zu beachten. Grundsätzlich funktioniert\n",
    "Division, so, wie gedacht:"
   ]
  },
  {
   "cell_type": "code",
   "execution_count": 9,
   "id": "91af7665-2975-484f-9af2-03ef24407d8e",
   "metadata": {
    "scrolled": true
   },
   "outputs": [
    {
     "data": {
      "text/plain": [
       "1.0"
      ]
     },
     "execution_count": 9,
     "metadata": {},
     "output_type": "execute_result"
    }
   ],
   "source": [
    "3/3"
   ]
  },
  {
   "cell_type": "code",
   "execution_count": 10,
   "id": "62945638-1fbf-425f-89c8-1fc3bd42b8c8",
   "metadata": {
    "scrolled": true
   },
   "outputs": [
    {
     "data": {
      "text/plain": [
       "1.5"
      ]
     },
     "execution_count": 10,
     "metadata": {},
     "output_type": "execute_result"
    }
   ],
   "source": [
    "3/2"
   ]
  },
  {
   "cell_type": "markdown",
   "id": "80e2d74a-7e76-4004-a767-0b6e73048f9f",
   "metadata": {
    "editable": true,
    "slideshow": {
     "slide_type": ""
    },
    "tags": []
   },
   "source": [
    "Wie Sie sehen, erhalten Sie als Ergebnis einer \"normalen\" Division immer eine\n",
    "Komma-Zahl.\n",
    "\n",
    "Diese ist nach dem IEE754-Standard definiert. Daher stehen einerseits nur eine\n",
    "gewisse Anzahl an Nachkommastellen zur Verfügung und andererseits sind manche\n",
    "Zahlen gar nicht direkt darstellbar sind."
   ]
  },
  {
   "cell_type": "code",
   "execution_count": 11,
   "id": "8c482efd-1f58-41cb-8c08-cbee7f52dc4a",
   "metadata": {},
   "outputs": [
    {
     "data": {
      "text/plain": [
       "0.3333333333333333"
      ]
     },
     "execution_count": 11,
     "metadata": {},
     "output_type": "execute_result"
    }
   ],
   "source": [
    "1/3"
   ]
  },
  {
   "cell_type": "code",
   "execution_count": 12,
   "id": "d805c9c1-501b-472f-95be-6eeef5a2d9cb",
   "metadata": {},
   "outputs": [
    {
     "data": {
      "text/plain": [
       "0.30000000000000004"
      ]
     },
     "execution_count": 12,
     "metadata": {},
     "output_type": "execute_result"
    }
   ],
   "source": [
    "0.1+0.2"
   ]
  },
  {
   "cell_type": "markdown",
   "id": "a8b9c080-0025-4a07-804e-6226413df446",
   "metadata": {
    "editable": true,
    "slideshow": {
     "slide_type": ""
    },
    "tags": []
   },
   "source": [
    "Neben der \"normalen\" Division gibt es noch die Ganzzahldivision, welche die\n",
    "Nachkommastellen \"abschneidet\" und eine Ganzzahl zurück gibt."
   ]
  },
  {
   "cell_type": "code",
   "execution_count": 13,
   "id": "65f1d95f-8395-45b7-8844-7cd577f1bd51",
   "metadata": {},
   "outputs": [
    {
     "data": {
      "text/plain": [
       "1"
      ]
     },
     "execution_count": 13,
     "metadata": {},
     "output_type": "execute_result"
    }
   ],
   "source": [
    "3//2"
   ]
  },
  {
   "cell_type": "code",
   "execution_count": 14,
   "id": "80f9cb51-4695-4ecd-ba80-bf8816cad29b",
   "metadata": {},
   "outputs": [
    {
     "data": {
      "text/plain": [
       "1"
      ]
     },
     "execution_count": 14,
     "metadata": {},
     "output_type": "execute_result"
    }
   ],
   "source": [
    "2//2"
   ]
  },
  {
   "cell_type": "code",
   "execution_count": 15,
   "id": "1f887f0d-f1e4-4c0a-8056-b87362a6629f",
   "metadata": {},
   "outputs": [
    {
     "data": {
      "text/plain": [
       "2"
      ]
     },
     "execution_count": 15,
     "metadata": {},
     "output_type": "execute_result"
    }
   ],
   "source": [
    "15//7"
   ]
  },
  {
   "cell_type": "markdown",
   "id": "b547d9cc-4728-4ff3-9847-b066560fb142",
   "metadata": {},
   "source": [
    "Wollen Sie wissen, was der Rest der Ganzzahldivision ist, so können Sie die\n",
    "Modulo-Operation nutzen."
   ]
  },
  {
   "cell_type": "code",
   "execution_count": 16,
   "id": "49f23430-0742-41f5-adbd-e320a41a8307",
   "metadata": {},
   "outputs": [
    {
     "data": {
      "text/plain": [
       "2"
      ]
     },
     "execution_count": 16,
     "metadata": {},
     "output_type": "execute_result"
    }
   ],
   "source": [
    "5%3 "
   ]
  },
  {
   "cell_type": "code",
   "execution_count": 17,
   "id": "5f4f43b0-bb92-4208-a57d-3b440625e5e0",
   "metadata": {},
   "outputs": [
    {
     "name": "stdout",
     "output_type": "stream",
     "text": [
      "17 geteilt durch 5 ist 3 mit Rest 2.\n",
      "Also ist ( 3 * 5 ) + 2 = 17 .\n"
     ]
    }
   ],
   "source": [
    "a = 17\n",
    "b = 5\n",
    "print(f\"{a} geteilt durch {b} ist {a//b} mit Rest {a%b}.\")\n",
    "print(\"Also ist (\", a//b, \"*\", b, \") +\", a%b, \"=\", a, \".\")"
   ]
  },
  {
   "cell_type": "markdown",
   "id": "a8c0fcf1-43c1-4344-967c-6e4bcdd41282",
   "metadata": {},
   "source": [
    "### Potenzieren\n",
    "Python bietet einen Operator für das Potenzieren einer Zahl."
   ]
  },
  {
   "cell_type": "code",
   "execution_count": 18,
   "id": "fcfb4bdd-b2ef-4c4f-87d8-055306f9ae42",
   "metadata": {},
   "outputs": [
    {
     "data": {
      "text/plain": [
       "8"
      ]
     },
     "execution_count": 18,
     "metadata": {},
     "output_type": "execute_result"
    }
   ],
   "source": [
    "2**3"
   ]
  },
  {
   "cell_type": "markdown",
   "id": "b2e37303-1c35-4cd9-85dd-e6238954f00d",
   "metadata": {
    "editable": true,
    "slideshow": {
     "slide_type": ""
    },
    "tags": []
   },
   "source": [
    "## Zahlenformate\n",
    "\n",
    "Wie oben angesprochen gibt es zwei Datentypen für Zahlenformate. Es gibt\n",
    "Ganzzahlen (Integer, `int()`) und Gleitkommazahlen (Float, Floating Point,\n",
    "`float()`). Sie können vom einen Datentyp in den anderen transformieren.\n",
    "(Das wird auch oft als \"type casting\" bezeichnet.)"
   ]
  },
  {
   "cell_type": "code",
   "execution_count": 19,
   "id": "0273eeb1-30c1-42ff-ac14-884450402542",
   "metadata": {
    "editable": true,
    "slideshow": {
     "slide_type": ""
    },
    "tags": []
   },
   "outputs": [
    {
     "data": {
      "text/plain": [
       "15.0"
      ]
     },
     "execution_count": 19,
     "metadata": {},
     "output_type": "execute_result"
    }
   ],
   "source": [
    "i = 15\n",
    "float(i)"
   ]
  },
  {
   "cell_type": "code",
   "execution_count": 20,
   "id": "d1d225dc-62a5-4e9c-9f76-e89b46272641",
   "metadata": {},
   "outputs": [
    {
     "data": {
      "text/plain": [
       "3"
      ]
     },
     "execution_count": 20,
     "metadata": {},
     "output_type": "execute_result"
    }
   ],
   "source": [
    "f = 3.14\n",
    "int(f)"
   ]
  },
  {
   "cell_type": "markdown",
   "id": "5988fa1e-4b3b-4437-9100-a733b88b36cb",
   "metadata": {},
   "source": [
    "Es gibt auch andere Zahlenformate, wie `complex()`, sowie bspw.\n",
    "`numbers.Rational()`, `fractions.Fraction()` und `decimals.Decimal()`. Diese\n",
    "werden in bei Bedarf eingeführt. In der Benutzung sind diese Zahlen nicht so\n",
    "einfach zu nutzen, wie am nächsten Beispiel zu sehen ist. (Das Ergebnis des\n",
    "Beispiels ist hier nicht relevant.)"
   ]
  },
  {
   "cell_type": "code",
   "execution_count": 21,
   "id": "f41d2f1c-12c6-494c-9e46-9614807dabe4",
   "metadata": {
    "lines_to_next_cell": 0
   },
   "outputs": [
    {
     "data": {
      "text/plain": [
       "Decimal('-3')"
      ]
     },
     "execution_count": 21,
     "metadata": {},
     "output_type": "execute_result"
    }
   ],
   "source": [
    "from decimal import Decimal\n",
    "Decimal(-7) % Decimal(4)"
   ]
  },
  {
   "cell_type": "markdown",
   "id": "ae9b3a67-993e-4668-9161-412cf4aa8bc3",
   "metadata": {},
   "source": []
  }
 ],
 "metadata": {
  "jupytext": {
   "default_lexer": "python3"
  },
  "kernelspec": {
   "display_name": "Python 3 (ipykernel)",
   "language": "python",
   "name": "python3"
  },
  "language_info": {
   "codemirror_mode": {
    "name": "ipython",
    "version": 3
   },
   "file_extension": ".py",
   "mimetype": "text/x-python",
   "name": "python",
   "nbconvert_exporter": "python",
   "pygments_lexer": "ipython3",
   "version": "3.13.7"
  },
  "numbering": {
   "figure": {
    "template": "Abb. %s"
   },
   "heading_1": true,
   "heading_2": true,
   "title": true
  }
 },
 "nbformat": 4,
 "nbformat_minor": 5
}
