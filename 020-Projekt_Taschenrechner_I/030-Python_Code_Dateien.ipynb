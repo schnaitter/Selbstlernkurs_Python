{
 "cells": [
  {
   "cell_type": "markdown",
   "id": "a0fa685e",
   "metadata": {
    "editable": true,
    "slideshow": {
     "slide_type": ""
    },
    "tags": []
   },
   "source": [
    "---\n",
    "short_title: Python-Dateien\n",
    "numbering:\n",
    "    heading_1: true\n",
    "    heading_2: true\n",
    "    title: true\n",
    "---\n",
    "# `.py`-Dateien\n",
    "\n",
    "Python-Code wird in `.py`-Dateien gespeichert. Diese sind Textdateien, welche\n",
    "vom Python-Interpreter eingelesen und ausgeführt werden können.\n",
    "\n",
    "Erstellen Sie eine Datei mit dem Namen `ausleihe_funktion.py`. Öffnen Sie diese\n",
    "in einem Text-Editor und fügen Sie die Funktionsdefinition aus dem letzten\n",
    "Beispiel ein (`ausleihe_überprüfen()`).\n",
    "\n"
   ]
  },
  {
   "cell_type": "markdown",
   "id": "f31b4bcd-17fd-4018-be44-65cd2b20c584",
   "metadata": {
    "editable": true,
    "slideshow": {
     "slide_type": ""
    },
    "tags": []
   },
   "source": [
    "Der Inhalt sollte dann ungefähr so aussehen:\n",
    "\n",
    "```{include} ../solutions/020/ausleihe_funktion.py\n",
    ":lang: python\n",
    ":enumerated: true\n",
    ":linenos: true\n",
    "\n",
    "```\n",
    "\n"
   ]
  },
  {
   "cell_type": "markdown",
   "id": "71165661-3e8f-42df-a444-46f899fcb2b4",
   "metadata": {
    "editable": true,
    "slideshow": {
     "slide_type": ""
    },
    "tags": []
   },
   "source": [
    "## Nutzung des Codes in der REPL\n",
    "\n",
    "Wollen Sie nun den Code einer Datei in der REPL nutzen so können Sie die Datei\n",
    "starten der REPL mit angeben. Die Option `-i` führt zuerst die Datei aus und\n",
    "steigt dann in die REPL ein. Für die weitere Benutzung ist so, als hätten Sie\n",
    "die REPL geöffnet und dann den Code in der Datei von oben nach unten\n",
    "eingetippt.\n",
    "\n",
    "```bash\n",
    "$ python3 -i ausleihe_funktion.py \n",
    ">>> ausleihe_überprüfen(8,6)\n",
    "Ihr neuer Kontostand: 14 Bücher.\n",
    "14\n",
    ">>> \n",
    "```"
   ]
  },
  {
   "cell_type": "markdown",
   "id": "91071f1a-5987-4a9c-ab95-4c2272d6d41c",
   "metadata": {
    "editable": true,
    "slideshow": {
     "slide_type": ""
    },
    "tags": []
   },
   "source": [
    "## Importieren von Code\n",
    "\n",
    "Sie können auch die REPL starten und dann die Datei importieren. Diese\n",
    "Funktionalität des Importierens funktioniert auch aus anderen Python-Dateien\n",
    "heraus. So können komplexe Programme bestehend aus vielen einzelnen Dateien\n",
    "erstellt werden. Genauer funktioniert das Importieren in Python auf der Ebene\n",
    "sog. Module, welche fürs erste mit Python-Dateien gleichgesetzt werden können.\n",
    "\n",
    "Zuerst importieren wir nur den Namen `ausleihe_überprüfen` (hinter dem sich die\n",
    "Funktion verbirgt) aus dem Modul `ausleihe_funktion` (welches hier der Datei\n",
    "`ausleihe_funktion.py` entspricht)."
   ]
  },
  {
   "cell_type": "code",
   "execution_count": 3,
   "id": "d7038e05-dcc7-4bbd-b0a3-cf2c78b5f2e9",
   "metadata": {
    "editable": true,
    "slideshow": {
     "slide_type": ""
    },
    "tags": [
     "remove-cell"
    ]
   },
   "outputs": [],
   "source": [
    "import sys\n",
    "sys.path.append(\"../solutions/020\")"
   ]
  },
  {
   "cell_type": "code",
   "execution_count": 4,
   "id": "360dad45-eee3-4344-b2ad-e359987e4cbd",
   "metadata": {},
   "outputs": [
    {
     "name": "stdout",
     "output_type": "stream",
     "text": [
      "Ausleihe erfolgreich.\n",
      "9\n"
     ]
    }
   ],
   "source": [
    "from ausleihe_funktion import ausleihe_überprüfen\n",
    "neuer_kontostand = ausleihe_überprüfen(8, 1)\n",
    "print(neuer_kontostand)"
   ]
  },
  {
   "cell_type": "markdown",
   "id": "d0cd9f6f-7fcb-44a5-9ec3-d7ea648068fb",
   "metadata": {},
   "source": [
    "Es wäre auch möglich gewesen, das Modul als ganzes zu importieren und dann auf\n",
    "die Namen innerhalb des Moduls zuzugreifen:"
   ]
  },
  {
   "cell_type": "code",
   "execution_count": 5,
   "id": "6ad654e1-b4e7-40d1-8c11-cbd3262da925",
   "metadata": {},
   "outputs": [
    {
     "name": "stdout",
     "output_type": "stream",
     "text": [
      "Ausleihe erfolgreich.\n",
      "9\n"
     ]
    }
   ],
   "source": [
    "import ausleihe_funktion\n",
    "neuer_kontostand = ausleihe_funktion.ausleihe_überprüfen(8, 1)\n",
    "print(neuer_kontostand)"
   ]
  },
  {
   "cell_type": "markdown",
   "id": "0d0cf956-32be-4208-af60-324fb1913340",
   "metadata": {},
   "source": [
    "Beide Optionen sind geläufig und manchmal ist die eine oder andere Option die\n",
    "passendere. Es gibt auch die Möglichkeit beim Importieren Dinge umzubenennen\n",
    "wie hier:"
   ]
  },
  {
   "cell_type": "code",
   "execution_count": 6,
   "id": "a9a4ce12-85c2-4aa9-86dd-904801e5a6c7",
   "metadata": {},
   "outputs": [
    {
     "name": "stdout",
     "output_type": "stream",
     "text": [
      "Ausleihe erfolgreich.\n",
      "9\n"
     ]
    }
   ],
   "source": [
    "import ausleihe_funktion as af\n",
    "neuer_kontostand = af.ausleihe_überprüfen(8, 1)\n",
    "print(neuer_kontostand)"
   ]
  },
  {
   "cell_type": "markdown",
   "id": "b5c803be-cf69-4cbb-a333-afcd7940d97b",
   "metadata": {},
   "source": [
    "Auf weitere Details des Imports gehen wir zu gegebener Zeit ein."
   ]
  }
 ],
 "metadata": {
  "jupytext": {
   "cell_metadata_filter": "-all",
   "main_language": "python",
   "notebook_metadata_filter": "-all"
  },
  "kernelspec": {
   "display_name": "Python 3 (ipykernel)",
   "language": "python",
   "name": "python3"
  },
  "language_info": {
   "codemirror_mode": {
    "name": "ipython",
    "version": 3
   },
   "file_extension": ".py",
   "mimetype": "text/x-python",
   "name": "python",
   "nbconvert_exporter": "python",
   "pygments_lexer": "ipython3",
   "version": "3.13.7"
  }
 },
 "nbformat": 4,
 "nbformat_minor": 5
}
