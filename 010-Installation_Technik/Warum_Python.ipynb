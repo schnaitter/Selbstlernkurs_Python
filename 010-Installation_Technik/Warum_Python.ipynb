{
 "cells": [
  {
   "cell_type": "markdown",
   "id": "153bb693-f254-4268-82e2-dd591eb8319f",
   "metadata": {
    "editable": true,
    "slideshow": {
     "slide_type": ""
    },
    "tags": []
   },
   "source": [
    "---\n",
    "numbering:\n",
    "    heading_1: true\n",
    "    heading_2: true\n",
    "    title: true\n",
    "---\n",
    "\n",
    "# Warum Python?\n",
    "\n",
    "Python ist eine Programmiersprache, welche sich besonders gut für den Einstieg\n",
    "in die Programmierung eignet. Die Syntax ist klar und verständlich, was es\n",
    "Anfänger\\*innen ermöglicht, sich auf die Konzepte des Programmierens zu\n",
    "konzentrieren, anstatt sich in komplexer Syntax zu verlieren. Gleichzeitig ist\n",
    "Python eine vollwertige, professionelle Programmiersprache, die in vielen\n",
    "Bereichen der Wissenschaft, Datenanalyse und Softwareentwicklung eingesetzt\n",
    "wird. Durch die große Community und umfangreiche Bibliothekslandschaft können\n",
    "Sie mit Python sowohl einfache Skripte als auch komplexe Anwendungen\n",
    "entwickeln.\n",
    "\n",
    "```{hint} Python 3 vs. Python 2\n",
    "\n",
    "Python als Programmiersprache gibt es seit 1989. Während der Entwicklung der\n",
    "Sprache entschieden sich die Entwickler\\*innen einen Bruch der\n",
    "Rückwärtskompatibilität in Kauf zu nehmen, um grundlegende Änderungen im\n",
    "Inneren der Sprache und des Compilers/Interpreters vorzunehmen. Seit 2008 gibt\n",
    "es daher Python 3 (`python3`). Python 2.7 war die letzte Python 2 Version\n",
    "(früher `python`). Auch wenn Python 2.7 schon sein vielen Jahren nicht mehr\n",
    "offiziell unterstützt wird sind viele Systeme noch so konfiguriert, dass der\n",
    "Befehl `python` den (vermutlich nicht mehr installierten) Python 2 Interpreter\n",
    "ausführt.\n",
    "\n",
    "Wenn Sie sich nicht sicher sind, wie genau Ihr System konfiguriert ist, nutzen\n",
    "Sie `python3`. Das funktioniert immer.\n",
    "\n",
    "```"
   ]
  },
  {
   "cell_type": "code",
   "execution_count": null,
   "id": "51a44396-79da-4ebb-8a4f-4267ab109ec6",
   "metadata": {
    "editable": true,
    "slideshow": {
     "slide_type": ""
    },
    "tags": []
   },
   "outputs": [],
   "source": []
  }
 ],
 "metadata": {
  "kernelspec": {
   "display_name": "Python 3 (ipykernel)",
   "language": "python",
   "name": "python3"
  },
  "language_info": {
   "codemirror_mode": {
    "name": "ipython",
    "version": 3
   },
   "file_extension": ".py",
   "mimetype": "text/x-python",
   "name": "python",
   "nbconvert_exporter": "python",
   "pygments_lexer": "ipython3",
   "version": "3.13.7"
  }
 },
 "nbformat": 4,
 "nbformat_minor": 5
}
