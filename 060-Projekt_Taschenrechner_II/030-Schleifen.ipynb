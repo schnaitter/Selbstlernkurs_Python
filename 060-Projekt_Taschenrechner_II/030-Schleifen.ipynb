{
 "cells": [
  {
   "cell_type": "markdown",
   "id": "d04bee5b-7b4e-42ae-ab19-50d9f91df648",
   "metadata": {
    "lines_to_next_cell": 0
   },
   "source": [
    "---\n",
    "numbering:\n",
    "    heading_1: true\n",
    "    heading_2: true\n",
    "    title: true\n",
    "---"
   ]
  },
  {
   "cell_type": "markdown",
   "id": "b2393c57",
   "metadata": {},
   "source": [
    "\n",
    "# Schleifen\n",
    "\n",
    "Im abschließenden Beispiel wiederholen wir zweimal den gleichen Code um zwei\n",
    "verschiedene Eingaben der Nutzer\\*in abzufragen. Das kann vereinzelt sinnvoll\n",
    "sein, jedoch wollen wir manchmal Code mehrmals häufiger ausführen. Teilweise\n",
    "wissen wir zum Zeitpunkt des Code-Schreibens auch nicht, wie oft Code\n",
    "wiederholt werden soll.\n",
    "\n",
    "Um all das zu ermöglichen gibt es sogenannte Schleifen (\"loops\"). In Python\n",
    "gibt es mehrere Varianten um Code zu wiederholen. Wir sehen uns hier zuerst\n",
    "einmal die sog. `while`-Schleifen an.\n",
    "\n",
    "## `while`-Schleife\n",
    "\n",
    "Eine `while`-Schleife führt einen Code-Block aus, _solange_ eine Bedingung\n",
    "gilt. Damit können beispielsweise folgende Handlungen abgebildet werden:\n",
    "- Frage nach einer Eingabe, solange die Eingabe keine Zahl ist.\n",
    "- Wiederhole eine Aktion, solange es nicht regnet.\n",
    "- Würfle eine Zahl, solange sie nicht gerade ist.\n",
    "- …\n",
    "\n",
    "In (nicht wirklich ausführbarem) Python-Code könnten diese Schleifen wie folgt\n",
    "aussehen:\n",
    "\n",
    "```python\n",
    "text = \"a\"\n",
    "while not_a_number(text):\n",
    "    text = input(\"? \")\n",
    "    ...\n",
    "```\n",
    "\n",
    "```python\n",
    "while not is_raining():\n",
    "    do_something()\n",
    "    ...\n",
    "```\n",
    "\n",
    "```python\n",
    "result = 1\n",
    "while not (result % 2 == 0):\n",
    "    result = roll_a_die()\n",
    "    print(result)\n",
    "```\n",
    "\n",
    "Die hier genutzten Funktionen gibt es so nicht, könnten jedoch programmiert\n",
    "werden."
   ]
  },
  {
   "cell_type": "markdown",
   "id": "e5597479",
   "metadata": {},
   "source": [
    "## `ausleihe.py`\n",
    "\n",
    "Nun kombinieren wir die bisher gelernten Mechanismen in einem Programm, das die\n",
    "Anzahl der entliehenen Medien einer Nutzer\\*in protokolliert und sowohl\n",
    "ausleihen als auch Rückgaben erlaubt. Bei den Grenzen 0 und 15 Medien werden\n",
    "jeweils Fehlermeldungen ausgegeben und die Buchung wird nicht vollzogen.\n",
    "Ansonsten wird der neue Kontostand ausgegeben.\n",
    "\n",
    "Wir bauen das Beispiel zuerst Schritt für Schritt auf und am Schluss finden Sie\n",
    "das gesamte Beispiel als Skript. Ab hier werden wir durchgehend\n",
    "englischsprachige Namen nutzen."
   ]
  },
  {
   "cell_type": "markdown",
   "id": "09ad7105",
   "metadata": {},
   "source": [
    "### Überprüfung der Ober- und Untergrenzen\n",
    "\n",
    "Wir definieren zuerst eine Funktion `transact_if_allowed()`, welche eine\n",
    "\"Transaktion\" (Ausleihen oder Zurückgeben) durchführt, wenn die Grenzen des\n",
    "Kontostands eingehalten werden. Sie gibt immer den aktuellen, korrekten\n",
    "Kontostand zurück."
   ]
  },
  {
   "cell_type": "code",
   "execution_count": null,
   "id": "e2a56f38",
   "metadata": {},
   "outputs": [],
   "source": [
    "def transact_if_allowed(account_balance, number_of_media):\n",
    "    \"\"\"Lend or return media, if within allowed number of media on account.\n",
    "\n",
    "    Parameters\n",
    "    ----------\n",
    "    account_balance (int): The current balance before the transaction is attempted.\n",
    "            Valid values: 0 <= x <= 15\n",
    "            \n",
    "    number_of_media (int): The number of the media to be lent or returned.\n",
    "            A positive number signifies lending and a negative Number signifies returning.\n",
    "\n",
    "    Returns\n",
    "    -------\n",
    "    int: The current account balance.\n",
    "    \"\"\"\n",
    "    new_balance = account_balance + number_of_media\n",
    "    if 0 <= new_balance and new_balance <= 15:\n",
    "        return new_balance\n",
    "    elif new_balance > 15:\n",
    "        print(f\"Sie dürfen maximal 15 Medien ausleihen. Sie können noch {15 - account_balance} Medien ausleihen.\")\n",
    "        return account_balance\n",
    "    elif new_balance < 0:\n",
    "        print(\"Sie können nur Medien zurückgeben, die Sie auch ausgeliehen haben.\")\n",
    "        print(f\"Rückgabe wird abgebrochen.\")\n",
    "        return account_balance\n",
    "    else:\n",
    "        print(\"ERROR: Unreachable.\")\n",
    "        print(\"Account wird zurückgesetzt.\")\n",
    "        return 0\n",
    "    "
   ]
  },
  {
   "cell_type": "code",
   "execution_count": null,
   "id": "757f2e64",
   "metadata": {},
   "outputs": [],
   "source": [
    "help(transact_if_allowed)"
   ]
  },
  {
   "cell_type": "code",
   "execution_count": null,
   "id": "bb8ec16f",
   "metadata": {},
   "outputs": [],
   "source": [
    "account = 0\n",
    "account = transact_if_allowed(account, 2)\n",
    "account = transact_if_allowed(account, 3)\n",
    "account = transact_if_allowed(account, 4)\n",
    "account = transact_if_allowed(account, 5)\n",
    "account = transact_if_allowed(account, 6)\n",
    "account = transact_if_allowed(account, -10)\n",
    "account = transact_if_allowed(account, -10)"
   ]
  },
  {
   "cell_type": "markdown",
   "id": "d5353459",
   "metadata": {},
   "source": [
    "### Abbruchbedingung der Schleife\n",
    "\n",
    "Nachdem wir nun für einen bestimmten Fall entscheiden können, ob eine Entleihe\n",
    "oder Rückgabe funktioniert wollen wir dies innerhalb einer `while`-Schleife\n",
    "tun. Dazu müssen wir uns jedoch überlegen, wann wir die Wiederholung stoppen.\n",
    "\n",
    "Die Wiederholung soll durch die Interaktion der Nutzer\\*in ermöglicht werden.\n",
    "Wir können folgendes Interaktionsmuster designen:\n",
    "```bash\n",
    "$ ./ausleihe.py\n",
    "Kontostand: 0\n",
    "Wie viele Medien wollen Sie ausleihen/zurückgeben? (q zum Beenden)\n",
    "> 4\n",
    "\n",
    "Kontostand: 4\n",
    "Wie viele Medien wollen Sie ausleihen/zurückgeben? (q zum Beenden)\n",
    "> 4\n",
    "\n",
    "Kontostand: 8\n",
    "Wie viele Medien wollen Sie ausleihen/zurückgeben? (q zum Beenden)\n",
    "> q\n",
    "Programm wird beendet.\n",
    "$ \n",
    "```\n",
    "\n",
    "Betrachten wir zunächst nur die Wiederholung an sich. Eine solche Wiederholung\n",
    "wird typischerweise umgesetzt, indem eine Variable (bspw. `stop_iteration =\n",
    "False`) definiert wird, welche unter bestimmte Umständen (hier: die Nutzer\\*in\n",
    "hat `q` eingegeben) auf `True` gesetzt wird. In der `while`-Schleife wird diese\n",
    "Variable dann so genutzt:\n",
    "```python\n",
    "stop_iteration = False\n",
    "while not stop_iteration:\n",
    "    ...\n",
    "```\n",
    "\n",
    "Implementieren wir dies zusammen mit der Funktion `input()`, dann könnte dies\n",
    "wie folgt aussehen:"
   ]
  },
  {
   "cell_type": "code",
   "execution_count": null,
   "id": "30fad993",
   "metadata": {},
   "outputs": [],
   "source": [
    "# CAUTION: Re-defines `input()` for the use with Jupyter Book\n",
    "# DO NOT RUN THIS CELL WHEN MANUALLY USING THE NOTEBOOK\n",
    "import builtins\n",
    "_original_input = builtins.input\n",
    "_mock_inputs = [\"hallo\", \"3\", \"q\"]\n",
    "_counter = 0\n",
    "\n",
    "def mock_input(prompt=\"\"):\n",
    "    global _counter\n",
    "    if _counter < len(_mock_inputs):\n",
    "        val = _mock_inputs[_counter]\n",
    "        print(f\"{prompt}{val}\")\n",
    "        _counter += 1\n",
    "        return val\n",
    "    return _original_input(prompt)  # Fallback\n",
    "\n",
    "input = mock_input"
   ]
  },
  {
   "cell_type": "code",
   "execution_count": null,
   "id": "09eb5e86",
   "metadata": {},
   "outputs": [],
   "source": [
    "stop_iteration = False\n",
    "\n",
    "while not stop_iteration:\n",
    "    text = input(\"> \")\n",
    "    print(text)\n",
    "    if text == \"q\":\n",
    "        print(\"Programm wird beendet.\")\n",
    "        stop_iteration = True\n",
    "    "
   ]
  },
  {
   "cell_type": "markdown",
   "id": "3295f43d",
   "metadata": {},
   "source": [
    "Fügen wir nun die Funktion an der richtigen Stelle in der Schleife ein, so\n",
    "erhalten wir folgenden Code:"
   ]
  },
  {
   "cell_type": "code",
   "execution_count": null,
   "id": "b31dbbc8",
   "metadata": {},
   "outputs": [],
   "source": [
    "# DO NOT RUN THIS CELL WHEN MANUALLY USING THE NOTEBOOK\n",
    "_mock_inputs = [\"4\", \"4\", \"q\"]\n",
    "_counter = 0"
   ]
  },
  {
   "cell_type": "code",
   "execution_count": null,
   "id": "f08d84a3",
   "metadata": {},
   "outputs": [],
   "source": [
    "account_balance = 0 # This variable stores the account balance for the user\n",
    "\n",
    "stop_iteration = False\n",
    "\n",
    "while not stop_iteration:\n",
    "    print(\"Kontostand:\", account_balance)\n",
    "    print(\"Wie viele Medien wollen Sie ausleihen/zurückgeben? (q zum Beenden)\")\n",
    "    text = input(\"> \")\n",
    "    if text == \"q\":\n",
    "        print(\"Programm wird beendet.\")\n",
    "        stop_iteration = True\n",
    "    else:\n",
    "        account_balance = transact_if_allowed(account_balance, int(text))\n",
    "        print()"
   ]
  },
  {
   "cell_type": "markdown",
   "id": "962a3514",
   "metadata": {},
   "source": [
    "```{exercise}\n",
    ":label: schleifen-else-zweig\n",
    "**`else`-Zweig Verständnis**\n",
    "\n",
    "Warum wird `transact_if_allowed()` nur im `else`-Zweig ausgeführt und nicht für\n",
    "alle Eingaben?\n",
    "```\n",
    "\n",
    "```{solution} schleifen-else-zweig\n",
    ":class: dropdown\n",
    "\n",
    "`\"q\"` lässt sich nicht in eine Zahl umwandeln. Es würde dann die Exception\n",
    "`ValueError` \"geworfen\".\n",
    "```\n"
   ]
  },
  {
   "cell_type": "markdown",
   "id": "38f6c0e6",
   "metadata": {},
   "source": [
    "### Das Ergebnisskript\n",
    "\n",
    "```{exercise}\n",
    ":label: schleifen-skript\n",
    "**Skript zusammenführen**\n",
    "\n",
    "Führen Sie nun alle Bestandteile in einer Datei `ausleihe.py` zusammen, welche\n",
    "als Skript ausführbar sein soll.\n",
    "```\n",
    "\n",
    "````{solution} schleifen-skript\n",
    ":class: dropdown\n",
    "\n",
    "```{include} ../solutions/020/ausleihe.py\n",
    ":lang: python\n",
    ":enumerated: true\n",
    ":linenos: true\n",
    "```\n",
    "````"
   ]
  }
 ],
 "metadata": {
  "jupytext": {
   "cell_metadata_filter": "-all",
   "main_language": "python",
   "notebook_metadata_filter": "-all"
  },
  "kernelspec": {
   "display_name": "Python 3 (ipykernel)",
   "language": "python",
   "name": "python3"
  },
  "language_info": {
   "codemirror_mode": {
    "name": "ipython",
    "version": 3
   },
   "file_extension": ".py",
   "mimetype": "text/x-python",
   "name": "python",
   "nbconvert_exporter": "python",
   "pygments_lexer": "ipython3",
   "version": "3.14.0"
  }
 },
 "nbformat": 4,
 "nbformat_minor": 5
}
