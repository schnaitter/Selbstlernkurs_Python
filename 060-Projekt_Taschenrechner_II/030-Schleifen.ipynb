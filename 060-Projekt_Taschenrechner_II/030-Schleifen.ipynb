{
 "cells": [
  {
   "cell_type": "markdown",
   "id": "1a5c0414",
   "metadata": {
    "editable": true,
    "slideshow": {
     "slide_type": ""
    },
    "tags": []
   },
   "source": [
    "---\n",
    "numbering:\n",
    "    heading_1: true\n",
    "    heading_2: true\n",
    "    title: true\n",
    "---\n",
    "\n",
    "# Schleifen\n",
    "\n",
    "Im abschließenden Beispiel wiederholen wir zweimal den gleichen Code um zwei verschiedene Eingaben der Nutzer\\*in abzufragen. Das kann vereinzelt sinnvoll sein, jedoch wollen wir manchmal Code mehrmals häufiger ausführen. Teilweise wissen wir zum Zeitpunkt des Code-Schreibens auch nicht, wie oft Code wiederholt werden soll.\n",
    "\n",
    "Um all das zu ermöglichen gibt es sogenannte Schleifen (\"loops\"). In Python gibt es mehrere Varianten um Code zu wiederholen. Wir sehen uns hier zuerst einmal die sog. `while`-Schleifen an.\n",
    "\n",
    "## `while`-Schleife\n",
    "\n",
    "Eine `while`-Schleife führt einen Code-Block aus, _solange_ eine Bedingung gilt. Damit können beispielsweise folgende Handlungen abgebildet werden:\n",
    "- Frage nach einer Eingabe, solange die Eingabe keine Zahl ist.\n",
    "- Wiederhole eine Aktion, solange es nicht regnet.\n",
    "- Würfle eine Zahl, solange sie nicht gerade ist.\n",
    "- …\n",
    "\n",
    "In (nicht wirklich ausführbarem) Python-Code könnten diese Schleifen wie folgt aussehen:\n",
    "\n",
    "```python\n",
    "text = \"a\"\n",
    "while not_a_number(text):\n",
    "    text = input(\"? \")\n",
    "    ...\n",
    "```\n",
    "\n",
    "```python\n",
    "while not is_raining():\n",
    "    do_something()\n",
    "    ...\n",
    "```\n",
    "\n",
    "```python\n",
    "result = 1\n",
    "while not (result % 2 == 0):\n",
    "    result = roll_a_die()\n",
    "    print(result)\n",
    "```\n",
    "\n",
    "Die hier genutzten Funktionen gibt es so nicht, könnten jedoch programmiert werden."
   ]
  },
  {
   "cell_type": "markdown",
   "id": "d501149b-97b2-4683-8b28-62d9be769cfb",
   "metadata": {
    "editable": true,
    "slideshow": {
     "slide_type": ""
    },
    "tags": []
   },
   "source": [
    "## `ausleihe.py`\n",
    "\n",
    "Nun kombinieren wir die bisher gelernten Mechanismen in einem Programm, das die Anzahl der entliehenen Medien einer Nutzer\\*in protokolliert und sowohl ausleihen als auch Rückgaben erlaubt. Bei den Grenzen 0 und 15 Medien werden jeweils Fehlermeldungen ausgegeben und die Buchung wird nicht vollzogen. Ansonsten wird der neue Kontostand ausgegeben.\n",
    "\n",
    "Wir bauen das Beispiel zuerst Schritt für Schritt auf und am Schluss finden Sie das gesamte Beispiel als Skript. Ab hier werden wir durchgehend englischsprachige Namen nutzen."
   ]
  },
  {
   "cell_type": "markdown",
   "id": "6c4ab438-4151-4fef-9692-166491a3172e",
   "metadata": {
    "editable": true,
    "slideshow": {
     "slide_type": ""
    },
    "tags": []
   },
   "source": [
    "### Überprüfung der Ober- und Untergrenzen\n",
    "\n",
    "Wir definieren zuerst eine Funktion `transact_if_allowed()`, welche eine \"Transaktion\" (Ausleihen oder Zurückgeben) durchführt, wenn die Grenzen des Kontostands eingehalten werden. Sie gibt immer den aktuellen, korrekten Kontostand zurück."
   ]
  },
  {
   "cell_type": "code",
   "execution_count": 1,
   "id": "d666a67d-47d7-4eaf-bd04-637c20381385",
   "metadata": {
    "editable": true,
    "slideshow": {
     "slide_type": ""
    },
    "tags": []
   },
   "outputs": [],
   "source": [
    "def transact_if_allowed(account_balance, number_of_media):\n",
    "    \"\"\"Lend or return media, if within allowed number of media on account.\n",
    "\n",
    "    Parameters:\n",
    "    ```````````\n",
    "    account_balance (int): The current balance before the transaction is attempted.\n",
    "            Valid values: 0 <= x <= 15\n",
    "            \n",
    "    number_of_media (int): The number of the media to be lent or returned.\n",
    "            A positive number signifies lending and a negative Number signifies returning.\n",
    "\n",
    "    Returns:\n",
    "    ````````\n",
    "    int: The current account balance.\n",
    "    \"\"\"\n",
    "    new_balance = account_balance + number_of_media\n",
    "    if 0 <= new_balance and new_balance <= 15:\n",
    "        return new_balance\n",
    "    elif new_balance > 15:\n",
    "        print(f\"Sie dürfen maximal 15 Medien ausleihen. Sie können noch {15 - account_balance} Medien ausleihen.\")\n",
    "        return account_balance\n",
    "    elif new_balance < 0:\n",
    "        print(\"Sie können nur Medien zurückgeben, die Sie auch ausgeliehen haben.\")\n",
    "        print(f\"Rückgabe wird abgebrochen.\")\n",
    "        return account_balance\n",
    "    else:\n",
    "        print(\"ERROR: Unreachable.\")\n",
    "        print(\"Account wird zurückgesetzt.\")\n",
    "        return 0\n",
    "    "
   ]
  },
  {
   "cell_type": "code",
   "execution_count": 2,
   "id": "7fedcd15-f80d-4636-b5bb-693b91cbdc68",
   "metadata": {
    "editable": true,
    "slideshow": {
     "slide_type": ""
    },
    "tags": []
   },
   "outputs": [
    {
     "name": "stdout",
     "output_type": "stream",
     "text": [
      "Help on function transact_if_allowed in module __main__:\n",
      "\n",
      "transact_if_allowed(account_balance, number_of_media)\n",
      "    Lend or return media, if within allowed number of media on account.\n",
      "\n",
      "    Parameters:\n",
      "    ```````````\n",
      "    account_balance (int): The current balance before the transaction is attempted.\n",
      "            Valid values: 0 <= x <= 15\n",
      "\n",
      "    number_of_media (int): The number of the media to be lent or returned.\n",
      "            A positive number signifies lending and a negative Number signifies returning.\n",
      "\n",
      "    Returns:\n",
      "    ````````\n",
      "    int: The current account balance.\n",
      "\n"
     ]
    }
   ],
   "source": [
    "help(transact_if_allowed)"
   ]
  },
  {
   "cell_type": "code",
   "execution_count": 3,
   "id": "5938b8c6-97e7-4195-ac2a-c0c6788f25af",
   "metadata": {
    "editable": true,
    "slideshow": {
     "slide_type": ""
    },
    "tags": []
   },
   "outputs": [
    {
     "name": "stdout",
     "output_type": "stream",
     "text": [
      "Sie dürfen maximal 15 Medien ausleihen. Sie können noch 1 Medien ausleihen.\n",
      "Sie können nur Medien zurückgeben, die Sie auch ausgeliehen haben.\n",
      "Rückgabe wird abgebrochen.\n"
     ]
    }
   ],
   "source": [
    "account = 0\n",
    "account = transact_if_allowed(account, 2)\n",
    "account = transact_if_allowed(account, 3)\n",
    "account = transact_if_allowed(account, 4)\n",
    "account = transact_if_allowed(account, 5)\n",
    "account = transact_if_allowed(account, 6)\n",
    "account = transact_if_allowed(account, -10)\n",
    "account = transact_if_allowed(account, -10)"
   ]
  },
  {
   "cell_type": "markdown",
   "id": "3bbac0ff-c37b-4d35-b60f-e6b8156ec44b",
   "metadata": {
    "editable": true,
    "slideshow": {
     "slide_type": ""
    },
    "tags": []
   },
   "source": [
    "### Abbruchbedingung der Schleife\n",
    "\n",
    "Nachdem wir nun für einen bestimmten Fall entscheiden können, ob eine Entleihe oder Rückgabe funktioniert wollen wir dies innerhalb einer `while`-Schleife tun. Dazu müssen wir uns jedoch überlegen, wann wir die Wiederholung stoppen.\n",
    "\n",
    "Die Wiederholung soll durch die Interaktion der Nutzer\\*in ermöglicht werden. Wir können folgendes Interaktionmuster designen:\n",
    "```bash\n",
    "$ ./ausleihe.py\n",
    "Kontostand: 0\n",
    "Wie viele Medien wollen Sie ausleihen/zurückgeben? (q zum Beenden)\n",
    "> 4\n",
    "\n",
    "Kontostand: 4\n",
    "Wie viele Medien wollen Sie ausleihen/zurückgeben? (q zum Beenden)\n",
    "> 4\n",
    "\n",
    "Kontostand: 8\n",
    "Wie viele Medien wollen Sie ausleihen/zurückgeben? (q zum Beenden)\n",
    "> q\n",
    "Programm wird beendet.\n",
    "$ \n",
    "```\n",
    "\n",
    "Betrachten wir zunächst nur die Wiederholung an sich. Eine solche Wiederholung wird typischerweise umgesetzt, indem eine Variable (bspw. `stop_iteration = False`) definiert wird, welche unter bestimmte Umständen (hier: die Nutzer\\*in hat `q` eingegeben) auf `True` gesetzt wird. In der `while`-Schleife wird diese Variable dann so genutzt:\n",
    "```python\n",
    "stop_iteration = False\n",
    "while not stop_iteration:\n",
    "    ...\n",
    "```\n",
    "\n",
    "Implementieren wir dies zusammen mit der Funktion `input()`, dann könnte dies wie folgt aussehen:"
   ]
  },
  {
   "cell_type": "code",
   "execution_count": 4,
   "id": "f761e0c5-73c5-4a72-862d-9e97f1a1ee78",
   "metadata": {
    "editable": true,
    "slideshow": {
     "slide_type": ""
    },
    "tags": [
     "remove-cell"
    ]
   },
   "outputs": [],
   "source": [
    "# CAUTION: Re-defines `input()` for the use with Jupyter Book\n",
    "# DO NOT RUN THIS CELL WHEN MANUALLY USING THE NOTEBOOK\n",
    "import builtins\n",
    "_original_input = builtins.input\n",
    "_mock_inputs = [\"hallo\", \"3\", \"q\"]\n",
    "_counter = 0\n",
    "\n",
    "def mock_input(prompt=\"\"):\n",
    "    global _counter\n",
    "    if _counter < len(_mock_inputs):\n",
    "        val = _mock_inputs[_counter]\n",
    "        print(f\"{prompt}{val}\")\n",
    "        _counter += 1\n",
    "        return val\n",
    "    return _original_input(prompt)  # Fallback\n",
    "\n",
    "input = mock_input"
   ]
  },
  {
   "cell_type": "code",
   "execution_count": 5,
   "id": "ae768c10-15f0-4edf-b8f4-db9f931791a1",
   "metadata": {
    "editable": true,
    "slideshow": {
     "slide_type": ""
    },
    "tags": []
   },
   "outputs": [
    {
     "name": "stdout",
     "output_type": "stream",
     "text": [
      "> hallo\n",
      "hallo\n",
      "> 3\n",
      "3\n",
      "> q\n",
      "q\n",
      "Programm wird beendet.\n"
     ]
    }
   ],
   "source": [
    "stop_iteration = False\n",
    "\n",
    "while not stop_iteration:\n",
    "    text = input(\"> \")\n",
    "    print(text)\n",
    "    if text == \"q\":\n",
    "        print(\"Programm wird beendet.\")\n",
    "        stop_iteration = True\n",
    "    "
   ]
  },
  {
   "cell_type": "markdown",
   "id": "d98e3fff-020e-4717-85b7-a2ff2f057231",
   "metadata": {
    "editable": true,
    "slideshow": {
     "slide_type": ""
    },
    "tags": []
   },
   "source": [
    "Fügen wir nun die Funktion an der richtigen Stelle in der Schleife ein, so erhalten wir folgenden Code:"
   ]
  },
  {
   "cell_type": "code",
   "execution_count": 6,
   "id": "95929357-b64a-4301-b9c7-6507725bf96d",
   "metadata": {
    "editable": true,
    "slideshow": {
     "slide_type": ""
    },
    "tags": [
     "remove-cell"
    ]
   },
   "outputs": [],
   "source": [
    "# DO NOT RUN THIS CELL WHEN MANUALLY USING THE NOTEBOOK\n",
    "_mock_inputs = [\"4\", \"4\", \"q\"]\n",
    "_counter = 0"
   ]
  },
  {
   "cell_type": "code",
   "execution_count": 7,
   "id": "0c99f6d6-0fef-403d-8489-e78714314b19",
   "metadata": {
    "editable": true,
    "slideshow": {
     "slide_type": ""
    },
    "tags": []
   },
   "outputs": [
    {
     "name": "stdout",
     "output_type": "stream",
     "text": [
      "Kontostand: 0\n",
      "Wie viele Medien wollen Sie ausleihen/zurückgeben? (q zum Beenden)\n",
      "> 4\n",
      "\n",
      "Kontostand: 4\n",
      "Wie viele Medien wollen Sie ausleihen/zurückgeben? (q zum Beenden)\n",
      "> 4\n",
      "\n",
      "Kontostand: 8\n",
      "Wie viele Medien wollen Sie ausleihen/zurückgeben? (q zum Beenden)\n",
      "> q\n",
      "Programm wird beendet.\n"
     ]
    }
   ],
   "source": [
    "account_balance = 0 # This variable stores the account balance for the user\n",
    "\n",
    "stop_iteration = False\n",
    "\n",
    "while not stop_iteration:\n",
    "    print(\"Kontostand:\", account_balance)\n",
    "    print(\"Wie viele Medien wollen Sie ausleihen/zurückgeben? (q zum Beenden)\")\n",
    "    text = input(\"> \")\n",
    "    if text == \"q\":\n",
    "        print(\"Programm wird beendet.\")\n",
    "        stop_iteration = True\n",
    "    else:\n",
    "        account_balance = transact_if_allowed(account_balance, int(text))\n",
    "        print()"
   ]
  },
  {
   "cell_type": "markdown",
   "id": "9ad23fa2-ebf1-4c5a-bfc1-ff8beda440ff",
   "metadata": {
    "editable": true,
    "slideshow": {
     "slide_type": ""
    },
    "tags": []
   },
   "source": [
    "::::{admonition} 💪 Übung\n",
    ":icon: false\n",
    "Warum wird `transact_if_allowed()` nur im `else`-Zweig ausgeführt und nicht für alle Eingaben?\n",
    "\n",
    ":::{dropdown} ✅ Lösung\n",
    "\n",
    "`\"q\"` lässt sich nicht in eine Zahl umwandeln. Es würde dann die Exception `ValueError` \"geworfen\".\n",
    "\n",
    "::: \n",
    "\n",
    ":::: "
   ]
  },
  {
   "cell_type": "markdown",
   "id": "0811bb64-3ab4-44c0-8f0d-a74cc2d90920",
   "metadata": {
    "editable": true,
    "slideshow": {
     "slide_type": ""
    },
    "tags": []
   },
   "source": [
    "### Das Ergebnisskript\n",
    "\n",
    "::::{admonition} 💪 Übung\n",
    ":icon: false\n",
    "Führen Sie nun alle Bestandteile in einer Datei `ausleihe.py` zusammen, welche als Skript ausführbar sein soll.\n",
    "\n",
    ":::{dropdown} ✅ Lösung\n",
    "\n",
    "```{include} ../solutions/020/ausleihe.py\n",
    ":lang: python\n",
    ":enumerated: true\n",
    ":linenos: true\n",
    "```\n",
    "\n",
    "::: \n",
    "\n",
    ":::: "
   ]
  },
  {
   "cell_type": "code",
   "execution_count": null,
   "id": "1b0cdca3-5413-4476-b3b9-bdd664b06d84",
   "metadata": {
    "editable": true,
    "slideshow": {
     "slide_type": ""
    },
    "tags": []
   },
   "outputs": [],
   "source": []
  }
 ],
 "metadata": {
  "jupytext": {
   "cell_metadata_filter": "-all",
   "main_language": "python",
   "notebook_metadata_filter": "-all"
  },
  "kernelspec": {
   "display_name": "Python 3 (ipykernel)",
   "language": "python",
   "name": "python3"
  },
  "language_info": {
   "codemirror_mode": {
    "name": "ipython",
    "version": 3
   },
   "file_extension": ".py",
   "mimetype": "text/x-python",
   "name": "python",
   "nbconvert_exporter": "python",
   "pygments_lexer": "ipython3",
   "version": "3.13.7"
  }
 },
 "nbformat": 4,
 "nbformat_minor": 5
}
